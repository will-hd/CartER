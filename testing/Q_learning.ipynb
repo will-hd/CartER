{
 "cells": [
  {
   "cell_type": "code",
   "execution_count": 6,
   "metadata": {},
   "outputs": [],
   "source": [
    "## https://github.com/maciejbalawejder/ReinforcementLearning-collection"
   ]
  },
  {
   "cell_type": "code",
   "execution_count": 1,
   "metadata": {},
   "outputs": [],
   "source": [
    "import gym\n",
    "import numpy as np \n",
    "import matplotlib.pyplot as plt\n",
    "import time"
   ]
  },
  {
   "cell_type": "code",
   "execution_count": 8,
   "metadata": {},
   "outputs": [
    {
     "name": "stdout",
     "output_type": "stream",
     "text": [
      "[-4.8000002e+00 -3.4028235e+38 -4.1887903e-01 -3.4028235e+38] \n",
      " [4.8000002e+00 3.4028235e+38 4.1887903e-01 3.4028235e+38]\n",
      "(30, 30, 2)\n"
     ]
    }
   ],
   "source": [
    "# CART POLE\n",
    "env = gym.make('CartPole-v0')\n",
    "print(env.observation_space.low,\"\\n\",env.observation_space.high)\n",
    "def Qtable(state_space,action_space,bin_size = 30):\n",
    "    \n",
    "    bins = [np.linspace(-4.8,4.8,bin_size),\n",
    "            np.linspace(-4,4,bin_size),\n",
    "            np.linspace(-0.418,0.418,bin_size),\n",
    "            np.linspace(-4,4,bin_size)]\n",
    "    \n",
    "    q_table = np.random.uniform(low=-1,high=1,size=([bin_size] * state_space + [action_space]))\n",
    "    # print(q_table.shape)\n",
    "    return q_table, bins\n",
    "\n",
    "\n",
    "# Qtable(2,2)\n",
    "def Discrete(state, bins):\n",
    "    index = []\n",
    "    for i in range(len(state)): \n",
    "        index.append(np.digitize(state[i],bins[i]) - 1)\n",
    "    return tuple(index)"
   ]
  },
  {
   "cell_type": "code",
   "execution_count": 21,
   "metadata": {},
   "outputs": [
    {
     "name": "stdout",
     "output_type": "stream",
     "text": [
      "[[[0. 0.]\n",
      "  [0. 0.]]\n",
      "\n",
      " [[0. 0.]\n",
      "  [0. 0.]]]\n",
      "(2, 2, 2)\n"
     ]
    }
   ],
   "source": [
    "a = np.zeros([2,2,2])\n",
    "print(a)\n",
    "print(a.shape)\n"
   ]
  },
  {
   "cell_type": "code",
   "execution_count": null,
   "metadata": {},
   "outputs": [],
   "source": [
    "def Q_learning(q_table, bins, episodes = 5000, gamma = 0.95, lr = 0.1, timestep = 5000, epsilon = 0.2):\n",
    "    rewards = 0\n",
    "    solved = False \n",
    "    steps = 0 \n",
    "    runs = [0]\n",
    "    data = {'max' : [0], 'avg' : [0]}\n",
    "    start = time.time()\n",
    "    ep = [i for i in range(0,episodes + 1,timestep)] \n",
    "    \n",
    "    for episode in range(1,episodes+1):\n",
    "        \n",
    "        current_state = Discrete(env.reset(),bins) # initial observation\n",
    "        score = 0\n",
    "        done = False\n",
    "        temp_start = time.time()\n",
    "        \n",
    "        while not done:\n",
    "            steps += 1 \n",
    "            ep_start = time.time()\n",
    "\n",
    "            # if episode%timestep == 0:\n",
    "            #     env.render()\n",
    "            \n",
    "            # epsilon greedy action\n",
    "            if np.random.uniform(0,1) < epsilon:\n",
    "                action = env.action_space.sample()\n",
    "            \n",
    "            else:\n",
    "                action = np.argmax(q_table[current_state])\n",
    "            \n",
    "            observation, reward, done, info = env.step(action)\n",
    "            next_state = Discrete(observation,bins)\n",
    "\n",
    "            score += reward\n",
    "            \n",
    "\n",
    "            if not done:\n",
    "                max_future_q = np.max(q_table[next_state])\n",
    "                current_q = q_table[current_state+(action,)]\n",
    "                new_q = (1-lr)*current_q + lr*(reward + gamma*max_future_q)\n",
    "                q_table[current_state+(action,)] = new_q\n",
    "\n",
    "            current_state = next_state\n",
    "            \n",
    "        # End of the loop update\n",
    "        else:\n",
    "            rewards += score\n",
    "            runs.append(score)\n",
    "            if score > 195 and steps >= 100 and solved == False: # considered as a solved:\n",
    "                solved = True\n",
    "                print('Solved in episode : {} in time {}'.format(episode, (time.time()-ep_start)))\n",
    "        \n",
    "        # Timestep value update\n",
    "        if episode%timestep == 0:\n",
    "            print('Episode : {} | Reward -> {} | Max reward : {} | Time : {}'.format(episode,rewards/timestep, max(runs), time.time() - ep_start))\n",
    "            data['max'].append(max(runs))\n",
    "            data['avg'].append(rewards/timestep)\n",
    "            if rewards/timestep >= 195: \n",
    "                print('Solved in episode : {}'.format(episode))\n",
    "            rewards, runs= 0, [0] \n",
    "            \n",
    "    if len(ep) == len(data['max']):\n",
    "        plt.plot(ep, data['max'], label = 'Max')\n",
    "        plt.plot(ep, data['avg'], label = 'Avg')\n",
    "        plt.xlabel('Episode')\n",
    "        plt.ylabel('Reward')\n",
    "        plt.legend(loc = \"upper left\")\n",
    "        \n",
    "    env.close()\n",
    "\n"
   ]
  },
  {
   "cell_type": "code",
   "execution_count": 22,
   "metadata": {},
   "outputs": [
    {
     "name": "stdout",
     "output_type": "stream",
     "text": [
      "(30, 30, 30, 30, 2)\n",
      "[-4.8000002e+00 -3.4028235e+38 -4.1887903e-01 -3.4028235e+38]\n"
     ]
    },
    {
     "ename": "NameError",
     "evalue": "name 'Q_learning' is not defined",
     "output_type": "error",
     "traceback": [
      "\u001b[0;31m---------------------------------------------------------------------------\u001b[0m",
      "\u001b[0;31mNameError\u001b[0m                                 Traceback (most recent call last)",
      "\u001b[0;32m/tmp/ipykernel_252/1036564808.py\u001b[0m in \u001b[0;36m<module>\u001b[0;34m\u001b[0m\n\u001b[1;32m      3\u001b[0m \u001b[0mprint\u001b[0m\u001b[0;34m(\u001b[0m\u001b[0menv\u001b[0m\u001b[0;34m.\u001b[0m\u001b[0mobservation_space\u001b[0m\u001b[0;34m.\u001b[0m\u001b[0mlow\u001b[0m\u001b[0;34m)\u001b[0m\u001b[0;34m\u001b[0m\u001b[0;34m\u001b[0m\u001b[0m\n\u001b[1;32m      4\u001b[0m \u001b[0;34m\u001b[0m\u001b[0m\n\u001b[0;32m----> 5\u001b[0;31m \u001b[0mQ_learning\u001b[0m\u001b[0;34m(\u001b[0m\u001b[0mq_table\u001b[0m\u001b[0;34m,\u001b[0m \u001b[0mbins\u001b[0m\u001b[0;34m,\u001b[0m \u001b[0mlr\u001b[0m \u001b[0;34m=\u001b[0m \u001b[0;36m0.15\u001b[0m\u001b[0;34m,\u001b[0m \u001b[0mgamma\u001b[0m \u001b[0;34m=\u001b[0m \u001b[0;36m0.995\u001b[0m\u001b[0;34m,\u001b[0m \u001b[0mepisodes\u001b[0m \u001b[0;34m=\u001b[0m \u001b[0;36m5\u001b[0m\u001b[0;34m*\u001b[0m\u001b[0;36m10\u001b[0m\u001b[0;34m**\u001b[0m\u001b[0;36m3\u001b[0m\u001b[0;34m,\u001b[0m \u001b[0mtimestep\u001b[0m \u001b[0;34m=\u001b[0m \u001b[0;36m1000\u001b[0m\u001b[0;34m)\u001b[0m\u001b[0;34m\u001b[0m\u001b[0;34m\u001b[0m\u001b[0m\n\u001b[0m\u001b[1;32m      6\u001b[0m \u001b[0;34m\u001b[0m\u001b[0m\n",
      "\u001b[0;31mNameError\u001b[0m: name 'Q_learning' is not defined"
     ]
    }
   ],
   "source": [
    "# TRANING\n",
    "q_table, bins = Qtable(len(env.observation_space.low), env.action_space.n)\n",
    "print(env.observation_space.low)\n",
    "\n",
    "Q_learning(q_table, bins, lr = 0.15, gamma = 0.995, episodes = 5*10**3, timestep = 1000)\n",
    "\n"
   ]
  }
 ],
 "metadata": {
  "kernelspec": {
   "display_name": "Python 3.9.5 ('.venv': poetry)",
   "language": "python",
   "name": "python3"
  },
  "language_info": {
   "codemirror_mode": {
    "name": "ipython",
    "version": 3
   },
   "file_extension": ".py",
   "mimetype": "text/x-python",
   "name": "python",
   "nbconvert_exporter": "python",
   "pygments_lexer": "ipython3",
   "version": "3.9.5"
  },
  "orig_nbformat": 4,
  "vscode": {
   "interpreter": {
    "hash": "185596214195b2bb38c4759d90e2bf136bd3c46539160ee745f48765fe5c87bc"
   }
  }
 },
 "nbformat": 4,
 "nbformat_minor": 2
}
