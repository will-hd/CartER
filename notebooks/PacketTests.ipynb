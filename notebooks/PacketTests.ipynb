{
 "cells": [
  {
   "cell_type": "code",
   "execution_count": 15,
   "id": "c62f238f",
   "metadata": {},
   "outputs": [
    {
     "name": "stdout",
     "output_type": "stream",
     "text": [
      "['/home/wgh24/Code/CartER-single/notebooks', '/usr/lib64/python39.zip', '/usr/lib64/python3.9', '/usr/lib64/python3.9/lib-dynload', '', '/home/wgh24/Code/CartER-single/.venv/lib64/python3.9/site-packages', '/home/wgh24/Code/CartER-single/.venv/lib/python3.9/site-packages', '/home/wgh24/Code/CartER-single']\n"
     ]
    }
   ],
   "source": [
    "import sys\n",
    "# sys.path.append('/home/wgh24/Code/CartER-single')\n",
    "print(sys.path)\n"
   ]
  },
  {
   "cell_type": "code",
   "execution_count": null,
   "id": "4bd291b1",
   "metadata": {},
   "outputs": [],
   "source": [
    "import time"
   ]
  },
  {
   "cell_type": "code",
   "execution_count": null,
   "id": "da996946-e8bf-484b-a978-585013ed4e2c",
   "metadata": {},
   "outputs": [],
   "source": [
    "# %load_ext autoreload\n",
    "# %autoreload 2\n",
    "\n",
    "from commander.network.network import NetworkManager\n",
    "from commander.network.protocol import (\n",
    "    PingPacket,\n",
    "    SetPositionPacket,\n",
    "    SetVelocityPacket,\n",
    "    FindLimitsPacket,\n",
    "    ObservationPacket,\n",
    "    RequestDebugInfoPacket,\n",
    "    CheckLimitPacket,\n",
    "    DoJigglePacket,\n",
    "    DebugPacket,\n",
    "    InfoPacket,\n",
    "    ErrorPacket,\n",
    "    ExperimentStartPacket,\n",
    "    ExperimentStopPacket,\n",
    "    SetMaxVelocityPacket\n",
    ")\n",
    "from commander.network.network_constants import SetOperation, CartID\n",
    "from commander.log import setup_logging\n",
    "\n",
    "from serial.tools import list_ports\n",
    "\n",
    "from time import time, sleep\n",
    "import random\n",
    "import numpy as np\n",
    "\n",
    "setup_logging(file=False)\n",
    "\n",
    "port = list_ports.comports()[0].device\n",
    "print([port.device for port in list_ports.comports()])\n",
    "print(port)\n",
    "\n",
    "nm = NetworkManager(port=port)\n",
    "nm.open()\n",
    "\n",
    "nm_reset = NetworkManager(port=\"/dev/ttyACM0\")\n",
    "nm_reset.open()\n",
    "nm_reset.close()\n",
    "\n",
    "initialised = False\n",
    "while not initialised:\n",
    "    try:\n",
    "        nm.read_initial_output()\n",
    "    except UnicodeDecodeError:\n",
    "        pass\n",
    "    else:\n",
    "        initialised = True"
   ]
  },
  {
   "cell_type": "code",
   "execution_count": 38,
   "id": "7f2be21e-5fb9-416e-a145-c603477d6394",
   "metadata": {
    "tags": []
   },
   "outputs": [
    {
     "name": "stdout",
     "output_type": "stream",
     "text": [
      "\n"
     ]
    }
   ],
   "source": [
    "print(nm.serial.read_all().decode(\"ASCII\", errors=\"ignore\"))"
   ]
  },
  {
   "cell_type": "code",
   "execution_count": 39,
   "id": "74e6304c-4bb4-40f5-8037-075714aecb18",
   "metadata": {},
   "outputs": [],
   "source": [
    "nm.dump_packets()"
   ]
  },
  {
   "cell_type": "markdown",
   "id": "be080d94-ba13-46f8-8526-12ebd5624391",
   "metadata": {},
   "source": [
    "# PingPacket"
   ]
  },
  {
   "cell_type": "code",
   "execution_count": 135,
   "id": "ca9db8ea-663c-4e48-aeaa-0d67e27de1d0",
   "metadata": {},
   "outputs": [
    {
     "name": "stderr",
     "output_type": "stream",
     "text": [
      "commander.network.network     : DEBUG    Sent packet: <PingPacket: id_: b'p', read_time: None, timestamp: 10>\n",
      "commander.network.network     : DEBUG    Sent packet: <PingPacket: id_: b'p', read_time: None, timestamp: 10>\n",
      "commander.network.network     : DEBUG    Sent packet: <PingPacket: id_: b'p', read_time: None, timestamp: 10>\n",
      "commander.network.network     : DEBUG    Sent packet: <PingPacket: id_: b'p', read_time: None, timestamp: 10>\n",
      "commander.network.network     : DEBUG    Sent packet: <PingPacket: id_: b'p', read_time: None, timestamp: 10>\n",
      "commander.network.network     : DEBUG    Sent packet: <PingPacket: id_: b'p', read_time: None, timestamp: 10>\n",
      "commander.network.network     : DEBUG    Sent packet: <PingPacket: id_: b'p', read_time: None, timestamp: 10>\n",
      "commander.network.network     : DEBUG    Sent packet: <PingPacket: id_: b'p', read_time: None, timestamp: 10>\n",
      "commander.network.network     : DEBUG    Sent packet: <PingPacket: id_: b'p', read_time: None, timestamp: 10>\n",
      "commander.network.network     : DEBUG    Sent packet: <PingPacket: id_: b'p', read_time: None, timestamp: 10>\n",
      "commander.network.network     : DEBUG    Sent packet: <PingPacket: id_: b'p', read_time: None, timestamp: 10>\n",
      "commander.network.network     : DEBUG    Sent packet: <PingPacket: id_: b'p', read_time: None, timestamp: 10>\n",
      "commander.network.network     : DEBUG    Sent packet: <PingPacket: id_: b'p', read_time: None, timestamp: 10>\n",
      "commander.network.network     : DEBUG    Sent packet: <PingPacket: id_: b'p', read_time: None, timestamp: 10>\n",
      "commander.network.network     : DEBUG    Sent packet: <PingPacket: id_: b'p', read_time: None, timestamp: 10>\n",
      "commander.network.network     : DEBUG    Read packet: <PongPacket: id_: b'P', read_time: 2022-08-16 09:46:42.386625, timestamp: 10>\n",
      "commander.network.network     : DEBUG    Read packet: <PongPacket: id_: b'P', read_time: 2022-08-16 09:46:42.386625, timestamp: 10>\n",
      "commander.network.network     : DEBUG    Read packet: <PongPacket: id_: b'P', read_time: 2022-08-16 09:46:42.386625, timestamp: 10>\n",
      "commander.network.network     : DEBUG    Read packet: <PongPacket: id_: b'P', read_time: 2022-08-16 09:46:42.386625, timestamp: 10>\n",
      "commander.network.network     : DEBUG    Read packet: <PongPacket: id_: b'P', read_time: 2022-08-16 09:46:42.386625, timestamp: 10>\n",
      "commander.network.network     : DEBUG    Read packet: <PongPacket: id_: b'P', read_time: 2022-08-16 09:46:42.386625, timestamp: 10>\n",
      "commander.network.network     : DEBUG    Read packet: <PongPacket: id_: b'P', read_time: 2022-08-16 09:46:42.386625, timestamp: 10>\n",
      "commander.network.network     : DEBUG    Read packet: <PongPacket: id_: b'P', read_time: 2022-08-16 09:46:42.386625, timestamp: 10>\n",
      "commander.network.network     : DEBUG    Read packet: <PongPacket: id_: b'P', read_time: 2022-08-16 09:46:42.386625, timestamp: 10>\n",
      "commander.network.network     : DEBUG    Read packet: <PongPacket: id_: b'P', read_time: 2022-08-16 09:46:42.386625, timestamp: 10>\n",
      "commander.network.network     : DEBUG    Read packet: <PongPacket: id_: b'P', read_time: 2022-08-16 09:46:42.386625, timestamp: 10>\n",
      "commander.network.network     : DEBUG    Read packet: <PongPacket: id_: b'P', read_time: 2022-08-16 09:46:42.386625, timestamp: 10>\n",
      "commander.network.network     : DEBUG    Read packet: <PongPacket: id_: b'P', read_time: 2022-08-16 09:46:42.386625, timestamp: 10>\n",
      "commander.network.network     : DEBUG    Read packet: <PongPacket: id_: b'P', read_time: 2022-08-16 09:46:42.386625, timestamp: 10>\n",
      "commander.network.network     : DEBUG    Read packet: <PongPacket: id_: b'P', read_time: 2022-08-16 09:46:42.386625, timestamp: 10>\n"
     ]
    },
    {
     "name": "stdout",
     "output_type": "stream",
     "text": [
      "<PongPacket: id_: b'P', read_time: 2022-08-16 09:46:42.386625, timestamp: 10>\n"
     ]
    }
   ],
   "source": [
    "ping_pkt = PingPacket(timestamp=10)\n",
    "nm.send_packet(ping_pkt)\n",
    "\n",
    "pkt = nm.read_packet()\n",
    "print(pkt)"
   ]
  },
  {
   "cell_type": "markdown",
   "id": "fe346888-cfa3-4517-8bd9-ee52e4891e3e",
   "metadata": {},
   "source": [
    "# UnknownPacket"
   ]
  },
  {
   "cell_type": "code",
   "execution_count": 134,
   "id": "8783cdea-17f5-402d-bed4-0a16e4e66d63",
   "metadata": {},
   "outputs": [
    {
     "name": "stdout",
     "output_type": "stream",
     "text": [
      "<DebugPacket: id_: b'#', msg: Received unknown packet with ID: 97, read_time: 2022-08-16 09:46:39.684379>\n"
     ]
    }
   ],
   "source": [
    "nm.serial.write(b\"a\")\n",
    "pkt = nm.read_packet()\n",
    "print(pkt)"
   ]
  },
  {
   "cell_type": "markdown",
   "id": "630f5db3-93af-45d1-8e3a-b0fbeabc99b7",
   "metadata": {},
   "source": [
    "# RequestDebugInfoPacket"
   ]
  },
  {
   "cell_type": "code",
   "execution_count": null,
   "id": "94d90197-64e8-44a9-b1e1-0ee96567d5a1",
   "metadata": {},
   "outputs": [],
   "source": [
    "request_dbg_pkt = RequestDebugInfoPacket()\n",
    "nm.send_packet(request_dbg_pkt)\n",
    "\n",
    "sleep(0.010)\n",
    "nm.dump_packets()"
   ]
  },
  {
   "cell_type": "markdown",
   "id": "c493a9bd-46e5-47ee-a7a1-2de6b3e2a4a2",
   "metadata": {},
   "source": [
    "# FindLimitsPacket"
   ]
  },
  {
   "cell_type": "code",
   "execution_count": 122,
   "id": "0ea10855-8c46-4872-b0d9-63bc92f58cb2",
   "metadata": {},
   "outputs": [
    {
     "name": "stderr",
     "output_type": "stream",
     "text": [
      "commander.network.network     : DEBUG    Sent packet: <FindLimitsPacket: id_: b'|', read_time: None>\n",
      "commander.network.network     : DEBUG    Sent packet: <FindLimitsPacket: id_: b'|', read_time: None>\n",
      "commander.network.network     : DEBUG    Sent packet: <FindLimitsPacket: id_: b'|', read_time: None>\n",
      "commander.network.network     : DEBUG    Sent packet: <FindLimitsPacket: id_: b'|', read_time: None>\n",
      "commander.network.network     : DEBUG    Sent packet: <FindLimitsPacket: id_: b'|', read_time: None>\n",
      "commander.network.network     : DEBUG    Sent packet: <FindLimitsPacket: id_: b'|', read_time: None>\n",
      "commander.network.network     : DEBUG    Sent packet: <FindLimitsPacket: id_: b'|', read_time: None>\n",
      "commander.network.network     : DEBUG    Sent packet: <FindLimitsPacket: id_: b'|', read_time: None>\n",
      "commander.network.network     : DEBUG    Sent packet: <FindLimitsPacket: id_: b'|', read_time: None>\n",
      "commander.network.network     : DEBUG    Sent packet: <FindLimitsPacket: id_: b'|', read_time: None>\n",
      "commander.network.network     : DEBUG    Sent packet: <FindLimitsPacket: id_: b'|', read_time: None>\n",
      "commander.network.network     : DEBUG    Sent packet: <FindLimitsPacket: id_: b'|', read_time: None>\n",
      "commander.network.network     : DEBUG    Sent packet: <FindLimitsPacket: id_: b'|', read_time: None>\n",
      "commander.network.network     : DEBUG    Sent packet: <FindLimitsPacket: id_: b'|', read_time: None>\n",
      "commander.network.network     : DEBUG    Sent packet: <FindLimitsPacket: id_: b'|', read_time: None>\n"
     ]
    },
    {
     "name": "stdout",
     "output_type": "stream",
     "text": [
      "Sent packet: <FindLimitsPacket: id_: b'|', read_time: None>\n",
      "<InfoPacket: id_: b'~', msg: LimitFinder: LEFT LIMIT HIT [fast], read_time: 2022-08-16 09:44:49.817362>\n",
      "<InfoPacket: id_: b'~', msg: LimitFinder: LEFT LIMIT RETRACTED, read_time: 2022-08-16 09:44:50.045884>\n",
      "<InfoPacket: id_: b'~', msg: LimitFinder: LEFT LIMIT HIT [slow], read_time: 2022-08-16 09:44:50.580325>\n",
      "<InfoPacket: id_: b'~', msg: LimitFinder: LEFT LIMIT SET, read_time: 2022-08-16 09:44:50.585232>\n",
      "<InfoPacket: id_: b'~', msg: LimitFinder: RIGHT LIMIT HIT [fast], read_time: 2022-08-16 09:45:02.921819>\n",
      "<InfoPacket: id_: b'~', msg: LimitFinder: RIGHT LIMIT RETRACTED, read_time: 2022-08-16 09:45:03.125005>\n"
     ]
    },
    {
     "name": "stderr",
     "output_type": "stream",
     "text": [
      "commander.network.network     : DEBUG    Read packet: <ExperimentInfoPacket: cart_id: 0, id_: b':', read_time: 2022-08-16 09:45:03.595663, specifier: 3, value: 25028>\n",
      "commander.network.network     : DEBUG    Read packet: <ExperimentInfoPacket: cart_id: 0, id_: b':', read_time: 2022-08-16 09:45:03.595663, specifier: 3, value: 25028>\n",
      "commander.network.network     : DEBUG    Read packet: <ExperimentInfoPacket: cart_id: 0, id_: b':', read_time: 2022-08-16 09:45:03.595663, specifier: 3, value: 25028>\n",
      "commander.network.network     : DEBUG    Read packet: <ExperimentInfoPacket: cart_id: 0, id_: b':', read_time: 2022-08-16 09:45:03.595663, specifier: 3, value: 25028>\n",
      "commander.network.network     : DEBUG    Read packet: <ExperimentInfoPacket: cart_id: 0, id_: b':', read_time: 2022-08-16 09:45:03.595663, specifier: 3, value: 25028>\n",
      "commander.network.network     : DEBUG    Read packet: <ExperimentInfoPacket: cart_id: 0, id_: b':', read_time: 2022-08-16 09:45:03.595663, specifier: 3, value: 25028>\n",
      "commander.network.network     : DEBUG    Read packet: <ExperimentInfoPacket: cart_id: 0, id_: b':', read_time: 2022-08-16 09:45:03.595663, specifier: 3, value: 25028>\n",
      "commander.network.network     : DEBUG    Read packet: <ExperimentInfoPacket: cart_id: 0, id_: b':', read_time: 2022-08-16 09:45:03.595663, specifier: 3, value: 25028>\n",
      "commander.network.network     : DEBUG    Read packet: <ExperimentInfoPacket: cart_id: 0, id_: b':', read_time: 2022-08-16 09:45:03.595663, specifier: 3, value: 25028>\n",
      "commander.network.network     : DEBUG    Read packet: <ExperimentInfoPacket: cart_id: 0, id_: b':', read_time: 2022-08-16 09:45:03.595663, specifier: 3, value: 25028>\n",
      "commander.network.network     : DEBUG    Read packet: <ExperimentInfoPacket: cart_id: 0, id_: b':', read_time: 2022-08-16 09:45:03.595663, specifier: 3, value: 25028>\n",
      "commander.network.network     : DEBUG    Read packet: <ExperimentInfoPacket: cart_id: 0, id_: b':', read_time: 2022-08-16 09:45:03.595663, specifier: 3, value: 25028>\n",
      "commander.network.network     : DEBUG    Read packet: <ExperimentInfoPacket: cart_id: 0, id_: b':', read_time: 2022-08-16 09:45:03.595663, specifier: 3, value: 25028>\n",
      "commander.network.network     : DEBUG    Read packet: <ExperimentInfoPacket: cart_id: 0, id_: b':', read_time: 2022-08-16 09:45:03.595663, specifier: 3, value: 25028>\n",
      "commander.network.network     : DEBUG    Read packet: <ExperimentInfoPacket: cart_id: 0, id_: b':', read_time: 2022-08-16 09:45:03.595663, specifier: 3, value: 25028>\n"
     ]
    },
    {
     "name": "stdout",
     "output_type": "stream",
     "text": [
      "<InfoPacket: id_: b'~', msg: LimitFinder: RIGHT LIMIT HIT [slow], read_time: 2022-08-16 09:45:03.591761>\n",
      "<ExperimentInfoPacket: cart_id: 0, id_: b':', read_time: 2022-08-16 09:45:03.595663, specifier: 3, value: 25028>\n"
     ]
    },
    {
     "name": "stderr",
     "output_type": "stream",
     "text": [
      "commander.network.network     : DEBUG    Read packet: <FindLimitsPacket: id_: b'|', read_time: 2022-08-16 09:45:04.837429>\n",
      "commander.network.network     : DEBUG    Read packet: <FindLimitsPacket: id_: b'|', read_time: 2022-08-16 09:45:04.837429>\n",
      "commander.network.network     : DEBUG    Read packet: <FindLimitsPacket: id_: b'|', read_time: 2022-08-16 09:45:04.837429>\n",
      "commander.network.network     : DEBUG    Read packet: <FindLimitsPacket: id_: b'|', read_time: 2022-08-16 09:45:04.837429>\n",
      "commander.network.network     : DEBUG    Read packet: <FindLimitsPacket: id_: b'|', read_time: 2022-08-16 09:45:04.837429>\n",
      "commander.network.network     : DEBUG    Read packet: <FindLimitsPacket: id_: b'|', read_time: 2022-08-16 09:45:04.837429>\n",
      "commander.network.network     : DEBUG    Read packet: <FindLimitsPacket: id_: b'|', read_time: 2022-08-16 09:45:04.837429>\n",
      "commander.network.network     : DEBUG    Read packet: <FindLimitsPacket: id_: b'|', read_time: 2022-08-16 09:45:04.837429>\n",
      "commander.network.network     : DEBUG    Read packet: <FindLimitsPacket: id_: b'|', read_time: 2022-08-16 09:45:04.837429>\n",
      "commander.network.network     : DEBUG    Read packet: <FindLimitsPacket: id_: b'|', read_time: 2022-08-16 09:45:04.837429>\n",
      "commander.network.network     : DEBUG    Read packet: <FindLimitsPacket: id_: b'|', read_time: 2022-08-16 09:45:04.837429>\n",
      "commander.network.network     : DEBUG    Read packet: <FindLimitsPacket: id_: b'|', read_time: 2022-08-16 09:45:04.837429>\n",
      "commander.network.network     : DEBUG    Read packet: <FindLimitsPacket: id_: b'|', read_time: 2022-08-16 09:45:04.837429>\n",
      "commander.network.network     : DEBUG    Read packet: <FindLimitsPacket: id_: b'|', read_time: 2022-08-16 09:45:04.837429>\n",
      "commander.network.network     : DEBUG    Read packet: <FindLimitsPacket: id_: b'|', read_time: 2022-08-16 09:45:04.837429>\n"
     ]
    },
    {
     "name": "stdout",
     "output_type": "stream",
     "text": [
      "<InfoPacket: id_: b'~', msg: LimitFinder: NOW DONE, read_time: 2022-08-16 09:45:04.835053>\n",
      "<FindLimitsPacket: id_: b'|', read_time: 2022-08-16 09:45:04.837429>\n"
     ]
    }
   ],
   "source": [
    "PKT = FindLimitsPacket\n",
    "nm.dump_packets()\n",
    "\n",
    "pkt = PKT()\n",
    "nm.send_packet(pkt)\n",
    "print(f\"Sent packet: {pkt}\")\n",
    "\n",
    "response_pkt = nm.get_packet(PKT, block=True, callback=nm.printer_callback(excepts=(PKT, )))\n",
    "nm.dump_packets()\n",
    "print(response_pkt)"
   ]
  },
  {
   "cell_type": "markdown",
   "id": "56728df8-b02d-4dc1-b2f1-5c91f638f293",
   "metadata": {},
   "source": [
    "# CheckLimitPacket"
   ]
  },
  {
   "cell_type": "code",
   "execution_count": 136,
   "id": "a8c7e744-1c1b-4758-a6b2-4cfd6c6790e0",
   "metadata": {},
   "outputs": [
    {
     "name": "stderr",
     "output_type": "stream",
     "text": [
      "commander.network.network     : DEBUG    Sent packet: <CheckLimitPacket: id_: b'/', read_time: None>\n",
      "commander.network.network     : DEBUG    Sent packet: <CheckLimitPacket: id_: b'/', read_time: None>\n",
      "commander.network.network     : DEBUG    Sent packet: <CheckLimitPacket: id_: b'/', read_time: None>\n",
      "commander.network.network     : DEBUG    Sent packet: <CheckLimitPacket: id_: b'/', read_time: None>\n",
      "commander.network.network     : DEBUG    Sent packet: <CheckLimitPacket: id_: b'/', read_time: None>\n",
      "commander.network.network     : DEBUG    Sent packet: <CheckLimitPacket: id_: b'/', read_time: None>\n",
      "commander.network.network     : DEBUG    Sent packet: <CheckLimitPacket: id_: b'/', read_time: None>\n",
      "commander.network.network     : DEBUG    Sent packet: <CheckLimitPacket: id_: b'/', read_time: None>\n",
      "commander.network.network     : DEBUG    Sent packet: <CheckLimitPacket: id_: b'/', read_time: None>\n",
      "commander.network.network     : DEBUG    Sent packet: <CheckLimitPacket: id_: b'/', read_time: None>\n",
      "commander.network.network     : DEBUG    Sent packet: <CheckLimitPacket: id_: b'/', read_time: None>\n",
      "commander.network.network     : DEBUG    Sent packet: <CheckLimitPacket: id_: b'/', read_time: None>\n",
      "commander.network.network     : DEBUG    Sent packet: <CheckLimitPacket: id_: b'/', read_time: None>\n",
      "commander.network.network     : DEBUG    Sent packet: <CheckLimitPacket: id_: b'/', read_time: None>\n",
      "commander.network.network     : DEBUG    Sent packet: <CheckLimitPacket: id_: b'/', read_time: None>\n"
     ]
    },
    {
     "name": "stdout",
     "output_type": "stream",
     "text": [
      "Sent packet: <CheckLimitPacket: id_: b'/', read_time: None>\n",
      "<InfoPacket: id_: b'~', msg: LimitChecker: LEFT SUPER FAST MARGIN HIT, read_time: 2022-08-16 09:46:51.285522>\n",
      "<InfoPacket: id_: b'~', msg: LimitChecker: LEFT LIMIT HIT [fast], read_time: 2022-08-16 09:46:51.672411>\n",
      "<InfoPacket: id_: b'~', msg: LimitChecker: LEFT LIMIT RETRACTED, read_time: 2022-08-16 09:46:51.870128>\n"
     ]
    },
    {
     "name": "stderr",
     "output_type": "stream",
     "text": [
      "commander.network.network     : DEBUG    Read packet: <ExperimentInfoPacket: cart_id: 1, id_: b':', read_time: 2022-08-16 09:46:52.318408, specifier: 1, value: 96>\n",
      "commander.network.network     : DEBUG    Read packet: <ExperimentInfoPacket: cart_id: 1, id_: b':', read_time: 2022-08-16 09:46:52.318408, specifier: 1, value: 96>\n",
      "commander.network.network     : DEBUG    Read packet: <ExperimentInfoPacket: cart_id: 1, id_: b':', read_time: 2022-08-16 09:46:52.318408, specifier: 1, value: 96>\n",
      "commander.network.network     : DEBUG    Read packet: <ExperimentInfoPacket: cart_id: 1, id_: b':', read_time: 2022-08-16 09:46:52.318408, specifier: 1, value: 96>\n",
      "commander.network.network     : DEBUG    Read packet: <ExperimentInfoPacket: cart_id: 1, id_: b':', read_time: 2022-08-16 09:46:52.318408, specifier: 1, value: 96>\n",
      "commander.network.network     : DEBUG    Read packet: <ExperimentInfoPacket: cart_id: 1, id_: b':', read_time: 2022-08-16 09:46:52.318408, specifier: 1, value: 96>\n",
      "commander.network.network     : DEBUG    Read packet: <ExperimentInfoPacket: cart_id: 1, id_: b':', read_time: 2022-08-16 09:46:52.318408, specifier: 1, value: 96>\n",
      "commander.network.network     : DEBUG    Read packet: <ExperimentInfoPacket: cart_id: 1, id_: b':', read_time: 2022-08-16 09:46:52.318408, specifier: 1, value: 96>\n",
      "commander.network.network     : DEBUG    Read packet: <ExperimentInfoPacket: cart_id: 1, id_: b':', read_time: 2022-08-16 09:46:52.318408, specifier: 1, value: 96>\n",
      "commander.network.network     : DEBUG    Read packet: <ExperimentInfoPacket: cart_id: 1, id_: b':', read_time: 2022-08-16 09:46:52.318408, specifier: 1, value: 96>\n",
      "commander.network.network     : DEBUG    Read packet: <ExperimentInfoPacket: cart_id: 1, id_: b':', read_time: 2022-08-16 09:46:52.318408, specifier: 1, value: 96>\n",
      "commander.network.network     : DEBUG    Read packet: <ExperimentInfoPacket: cart_id: 1, id_: b':', read_time: 2022-08-16 09:46:52.318408, specifier: 1, value: 96>\n",
      "commander.network.network     : DEBUG    Read packet: <ExperimentInfoPacket: cart_id: 1, id_: b':', read_time: 2022-08-16 09:46:52.318408, specifier: 1, value: 96>\n",
      "commander.network.network     : DEBUG    Read packet: <ExperimentInfoPacket: cart_id: 1, id_: b':', read_time: 2022-08-16 09:46:52.318408, specifier: 1, value: 96>\n",
      "commander.network.network     : DEBUG    Read packet: <ExperimentInfoPacket: cart_id: 1, id_: b':', read_time: 2022-08-16 09:46:52.318408, specifier: 1, value: 96>\n"
     ]
    },
    {
     "name": "stdout",
     "output_type": "stream",
     "text": [
      "<InfoPacket: id_: b'~', msg: LimitChecker: LEFT LIMIT HIT [slow], read_time: 2022-08-16 09:46:52.306462>\n",
      "<InfoPacket: id_: b'~', msg: LimitChecker: LEFT LIMIT GET, read_time: 2022-08-16 09:46:52.312220>\n",
      "<InfoPacket: id_: b'~', msg: LimitChecker: New limit was 96, read_time: 2022-08-16 09:46:52.315212>\n",
      "<ExperimentInfoPacket: cart_id: 1, id_: b':', read_time: 2022-08-16 09:46:52.318408, specifier: 1, value: 96>\n"
     ]
    },
    {
     "name": "stderr",
     "output_type": "stream",
     "text": [
      "commander.network.network     : DEBUG    Read packet: <CheckLimitPacket: id_: b'/', read_time: 2022-08-16 09:46:53.551356>\n",
      "commander.network.network     : DEBUG    Read packet: <CheckLimitPacket: id_: b'/', read_time: 2022-08-16 09:46:53.551356>\n",
      "commander.network.network     : DEBUG    Read packet: <CheckLimitPacket: id_: b'/', read_time: 2022-08-16 09:46:53.551356>\n",
      "commander.network.network     : DEBUG    Read packet: <CheckLimitPacket: id_: b'/', read_time: 2022-08-16 09:46:53.551356>\n",
      "commander.network.network     : DEBUG    Read packet: <CheckLimitPacket: id_: b'/', read_time: 2022-08-16 09:46:53.551356>\n",
      "commander.network.network     : DEBUG    Read packet: <CheckLimitPacket: id_: b'/', read_time: 2022-08-16 09:46:53.551356>\n",
      "commander.network.network     : DEBUG    Read packet: <CheckLimitPacket: id_: b'/', read_time: 2022-08-16 09:46:53.551356>\n",
      "commander.network.network     : DEBUG    Read packet: <CheckLimitPacket: id_: b'/', read_time: 2022-08-16 09:46:53.551356>\n",
      "commander.network.network     : DEBUG    Read packet: <CheckLimitPacket: id_: b'/', read_time: 2022-08-16 09:46:53.551356>\n",
      "commander.network.network     : DEBUG    Read packet: <CheckLimitPacket: id_: b'/', read_time: 2022-08-16 09:46:53.551356>\n",
      "commander.network.network     : DEBUG    Read packet: <CheckLimitPacket: id_: b'/', read_time: 2022-08-16 09:46:53.551356>\n",
      "commander.network.network     : DEBUG    Read packet: <CheckLimitPacket: id_: b'/', read_time: 2022-08-16 09:46:53.551356>\n",
      "commander.network.network     : DEBUG    Read packet: <CheckLimitPacket: id_: b'/', read_time: 2022-08-16 09:46:53.551356>\n",
      "commander.network.network     : DEBUG    Read packet: <CheckLimitPacket: id_: b'/', read_time: 2022-08-16 09:46:53.551356>\n",
      "commander.network.network     : DEBUG    Read packet: <CheckLimitPacket: id_: b'/', read_time: 2022-08-16 09:46:53.551356>\n"
     ]
    },
    {
     "name": "stdout",
     "output_type": "stream",
     "text": [
      "<InfoPacket: id_: b'~', msg: LimitChecker: NOW DONE, read_time: 2022-08-16 09:46:53.548855>\n",
      "<CheckLimitPacket: id_: b'/', read_time: 2022-08-16 09:46:53.551356>\n"
     ]
    }
   ],
   "source": [
    "PKT = CheckLimitPacket\n",
    "nm.dump_packets()\n",
    "\n",
    "pkt = PKT()\n",
    "nm.send_packet(pkt)\n",
    "print(f\"Sent packet: {pkt}\")\n",
    "\n",
    "response_pkt = nm.get_packet(PKT, block=True, callback=nm.printer_callback(excepts=(PKT, )))\n",
    "nm.dump_packets()\n",
    "print(response_pkt)"
   ]
  },
  {
   "cell_type": "markdown",
   "id": "b17a0cfe-1f86-460a-a70f-bec4a4a46510",
   "metadata": {},
   "source": [
    "# DoJigglePacket"
   ]
  },
  {
   "cell_type": "code",
   "execution_count": null,
   "id": "845817d6-cf2a-4e95-9cec-09cc183533df",
   "metadata": {},
   "outputs": [],
   "source": [
    "PKT = DoJigglePacket\n",
    "nm.dump_packets()\n",
    "\n",
    "pkt = PKT()\n",
    "nm.send_packet(pkt)\n",
    "print(f\"Sent packet: {pkt}\")\n",
    "\n",
    "response_pkt = nm.get_packet(PKT, block=True, callback=nm.printer_callback(excepts=(PKT, )))\n",
    "nm.dump_packets()\n",
    "print(response_pkt)"
   ]
  },
  {
   "cell_type": "markdown",
   "id": "e289546b-8062-40c4-acaa-47ebfde2d079",
   "metadata": {},
   "source": [
    "# SetPositionPacket"
   ]
  },
  {
   "cell_type": "code",
   "execution_count": 127,
   "id": "56dba633-cb11-4b4a-b99e-4272e741c7f6",
   "metadata": {},
   "outputs": [
    {
     "name": "stderr",
     "output_type": "stream",
     "text": [
      "commander.network.network     : DEBUG    Sent packet: <SetPositionPacket: actobs_tracker: 1, cart_id: 1, id_: b'x', operation: =, value: 2000>\n",
      "commander.network.network     : DEBUG    Sent packet: <SetPositionPacket: actobs_tracker: 1, cart_id: 1, id_: b'x', operation: =, value: 2000>\n",
      "commander.network.network     : DEBUG    Sent packet: <SetPositionPacket: actobs_tracker: 1, cart_id: 1, id_: b'x', operation: =, value: 2000>\n",
      "commander.network.network     : DEBUG    Sent packet: <SetPositionPacket: actobs_tracker: 1, cart_id: 1, id_: b'x', operation: =, value: 2000>\n",
      "commander.network.network     : DEBUG    Sent packet: <SetPositionPacket: actobs_tracker: 1, cart_id: 1, id_: b'x', operation: =, value: 2000>\n",
      "commander.network.network     : DEBUG    Sent packet: <SetPositionPacket: actobs_tracker: 1, cart_id: 1, id_: b'x', operation: =, value: 2000>\n",
      "commander.network.network     : DEBUG    Sent packet: <SetPositionPacket: actobs_tracker: 1, cart_id: 1, id_: b'x', operation: =, value: 2000>\n",
      "commander.network.network     : DEBUG    Sent packet: <SetPositionPacket: actobs_tracker: 1, cart_id: 1, id_: b'x', operation: =, value: 2000>\n",
      "commander.network.network     : DEBUG    Sent packet: <SetPositionPacket: actobs_tracker: 1, cart_id: 1, id_: b'x', operation: =, value: 2000>\n",
      "commander.network.network     : DEBUG    Sent packet: <SetPositionPacket: actobs_tracker: 1, cart_id: 1, id_: b'x', operation: =, value: 2000>\n",
      "commander.network.network     : DEBUG    Sent packet: <SetPositionPacket: actobs_tracker: 1, cart_id: 1, id_: b'x', operation: =, value: 2000>\n",
      "commander.network.network     : DEBUG    Sent packet: <SetPositionPacket: actobs_tracker: 1, cart_id: 1, id_: b'x', operation: =, value: 2000>\n",
      "commander.network.network     : DEBUG    Sent packet: <SetPositionPacket: actobs_tracker: 1, cart_id: 1, id_: b'x', operation: =, value: 2000>\n",
      "commander.network.network     : DEBUG    Sent packet: <SetPositionPacket: actobs_tracker: 1, cart_id: 1, id_: b'x', operation: =, value: 2000>\n",
      "commander.network.network     : DEBUG    Sent packet: <SetPositionPacket: actobs_tracker: 1, cart_id: 1, id_: b'x', operation: =, value: 2000>\n"
     ]
    },
    {
     "name": "stdout",
     "output_type": "stream",
     "text": [
      "Sent packet: <SetPositionPacket: actobs_tracker: 1, cart_id: 1, id_: b'x', operation: =, value: 2000>\n"
     ]
    }
   ],
   "source": [
    "nm.dump_packets()\n",
    "\n",
    "pkt = SetPositionPacket(operation=SetOperation.EQUAL, cart_id=CartID.ONE, value=2000, actobs_tracker=1)\n",
    "nm.send_packet(pkt)\n",
    "\n",
    "print(f\"Sent packet: {pkt}\")\n",
    "\n",
    "nm.dump_packets()"
   ]
  },
  {
   "cell_type": "code",
   "execution_count": 84,
   "id": "8c155700",
   "metadata": {},
   "outputs": [
    {
     "name": "stdout",
     "output_type": "stream",
     "text": [
      "<InfoPacket: id_: b'~', msg: Not in constant velocity mode - SetVelocity ignored., read_time: 2022-08-15 16:21:03.979236>\n",
      "<InfoPacket: id_: b'~', msg: Not in constant velocity mode - SetVelocity ignored., read_time: 2022-08-15 16:21:03.979320>\n",
      "<InfoPacket: id_: b'~', msg: Not in constant velocity mode - SetVelocity ignored., read_time: 2022-08-15 16:21:03.979361>\n"
     ]
    }
   ],
   "source": [
    "nm.dump_packets()\n",
    "value = 10000\n",
    "\n",
    "pkt = SetVelocityPacket(operation=SetOperation.ADD, cart_id=CartID.ONE, value=value, actobs_tracker=100)\n",
    "nm.send_packet(pkt)\n",
    "sleep(1)\n",
    "\n",
    "pkt = SetVelocityPacket(operation=SetOperation.ADD, cart_id=CartID.ONE, value=-2*value, actobs_tracker=100)\n",
    "nm.send_packet(pkt)\n",
    "\n",
    "sleep(0.5)\n",
    "pkt = SetVelocityPacket(operation=SetOperation.ADD, cart_id=CartID.ONE, value=value, actobs_tracker=100)\n",
    "nm.send_packet(pkt)\n",
    "sleep(0.5)\n",
    "\n",
    "nm.dump_packets()"
   ]
  },
  {
   "cell_type": "markdown",
   "id": "9018684f-08bf-4724-80cd-5d2c74155a9d",
   "metadata": {},
   "source": [
    "# SetVelocityPacket"
   ]
  },
  {
   "cell_type": "code",
   "execution_count": 295,
   "id": "fad623de",
   "metadata": {},
   "outputs": [
    {
     "name": "stderr",
     "output_type": "stream",
     "text": [
      "commander.network.network     : DEBUG    Sent packet: <SetMaxVelocityPacket: actobs_tracker: 2, cart_id: 1, id_: b'w', operation: =, value: 20000>\n",
      "commander.network.network     : DEBUG    Sent packet: <SetMaxVelocityPacket: actobs_tracker: 2, cart_id: 1, id_: b'w', operation: =, value: 20000>\n",
      "commander.network.network     : DEBUG    Sent packet: <SetMaxVelocityPacket: actobs_tracker: 2, cart_id: 1, id_: b'w', operation: =, value: 20000>\n",
      "commander.network.network     : DEBUG    Sent packet: <SetMaxVelocityPacket: actobs_tracker: 2, cart_id: 1, id_: b'w', operation: =, value: 20000>\n",
      "commander.network.network     : DEBUG    Sent packet: <SetMaxVelocityPacket: actobs_tracker: 2, cart_id: 1, id_: b'w', operation: =, value: 20000>\n",
      "commander.network.network     : DEBUG    Sent packet: <SetMaxVelocityPacket: actobs_tracker: 2, cart_id: 1, id_: b'w', operation: =, value: 20000>\n",
      "commander.network.network     : DEBUG    Sent packet: <SetMaxVelocityPacket: actobs_tracker: 2, cart_id: 1, id_: b'w', operation: =, value: 20000>\n",
      "commander.network.network     : DEBUG    Sent packet: <SetMaxVelocityPacket: actobs_tracker: 2, cart_id: 1, id_: b'w', operation: =, value: 20000>\n",
      "commander.network.network     : DEBUG    Sent packet: <SetMaxVelocityPacket: actobs_tracker: 2, cart_id: 1, id_: b'w', operation: =, value: 20000>\n",
      "commander.network.network     : DEBUG    Sent packet: <SetMaxVelocityPacket: actobs_tracker: 2, cart_id: 1, id_: b'w', operation: =, value: 20000>\n",
      "commander.network.network     : DEBUG    Sent packet: <SetMaxVelocityPacket: actobs_tracker: 2, cart_id: 1, id_: b'w', operation: =, value: 20000>\n",
      "commander.network.network     : DEBUG    Sent packet: <SetMaxVelocityPacket: actobs_tracker: 2, cart_id: 1, id_: b'w', operation: =, value: 20000>\n",
      "commander.network.network     : DEBUG    Sent packet: <SetMaxVelocityPacket: actobs_tracker: 2, cart_id: 1, id_: b'w', operation: =, value: 20000>\n",
      "commander.network.network     : DEBUG    Sent packet: <SetMaxVelocityPacket: actobs_tracker: 2, cart_id: 1, id_: b'w', operation: =, value: 20000>\n",
      "commander.network.network     : DEBUG    Sent packet: <SetMaxVelocityPacket: actobs_tracker: 2, cart_id: 1, id_: b'w', operation: =, value: 20000>\n",
      "commander.network.network     : DEBUG    Sent packet: <SetMaxVelocityPacket: actobs_tracker: 2, cart_id: 1, id_: b'w', operation: =, value: 20000>\n",
      "commander.network.network     : DEBUG    Sent packet: <SetMaxVelocityPacket: actobs_tracker: 2, cart_id: 1, id_: b'w', operation: =, value: 20000>\n",
      "commander.network.network     : DEBUG    Sent packet: <SetMaxVelocityPacket: actobs_tracker: 2, cart_id: 1, id_: b'w', operation: =, value: 20000>\n",
      "commander.network.network     : DEBUG    Sent packet: <SetMaxVelocityPacket: actobs_tracker: 2, cart_id: 1, id_: b'w', operation: =, value: 20000>\n",
      "commander.network.network     : DEBUG    Sent packet: <SetMaxVelocityPacket: actobs_tracker: 2, cart_id: 1, id_: b'w', operation: =, value: 20000>\n",
      "commander.network.network     : DEBUG    Sent packet: <SetMaxVelocityPacket: actobs_tracker: 2, cart_id: 1, id_: b'w', operation: =, value: 20000>\n",
      "commander.network.network     : DEBUG    Sent packet: <SetMaxVelocityPacket: actobs_tracker: 2, cart_id: 1, id_: b'w', operation: =, value: 20000>\n",
      "commander.network.network     : DEBUG    Sent packet: <SetMaxVelocityPacket: actobs_tracker: 2, cart_id: 1, id_: b'w', operation: =, value: 20000>\n",
      "commander.network.network     : DEBUG    Sent packet: <SetMaxVelocityPacket: actobs_tracker: 2, cart_id: 1, id_: b'w', operation: =, value: 20000>\n",
      "commander.network.network     : DEBUG    Sent packet: <SetMaxVelocityPacket: actobs_tracker: 2, cart_id: 1, id_: b'w', operation: =, value: 20000>\n",
      "commander.network.network     : DEBUG    Sent packet: <SetMaxVelocityPacket: actobs_tracker: 2, cart_id: 1, id_: b'w', operation: =, value: 20000>\n",
      "commander.network.network     : DEBUG    Sent packet: <SetMaxVelocityPacket: actobs_tracker: 2, cart_id: 1, id_: b'w', operation: =, value: 20000>\n"
     ]
    }
   ],
   "source": [
    "max_velo_pkt = SetMaxVelocityPacket(SetOperation.EQUAL, cart_id=CartID.ONE, value=20_000, actobs_tracker=2)\n",
    "nm.send_packet(max_velo_pkt)"
   ]
  },
  {
   "cell_type": "code",
   "execution_count": 304,
   "id": "b9b66d33-65e9-4d24-86e0-c01ad148c57e",
   "metadata": {},
   "outputs": [
    {
     "name": "stdout",
     "output_type": "stream",
     "text": [
      "Sent packet: <SetVelocityPacket: actobs_tracker: 100, cart_id: 1, id_: b'v', operation: =, value: 0>\n"
     ]
    }
   ],
   "source": [
    "nm.dump_packets()\n",
    "value = 12000\n",
    "wait = 0.42\n",
    "\n",
    "for i in range(10):\n",
    "    pkt = SetVelocityPacket(operation=SetOperation.EQUAL, cart_id=CartID.ONE, value=value, actobs_tracker=255)\n",
    "    nm.send_packet(pkt)\n",
    "    sleep(wait+i/60)\n",
    "\n",
    "    pkt = SetVelocityPacket(operation=SetOperation.EQUAL, cart_id=CartID.ONE, value=-value, actobs_tracker=100)\n",
    "    nm.send_packet(pkt)\n",
    "    sleep(wait+i/50)\n",
    "\n",
    "pkt = SetVelocityPacket(operation=SetOperation.EQUAL, cart_id=CartID.ONE, value=0, actobs_tracker=100)\n",
    "nm.send_packet(pkt)\n",
    "\n",
    "print(f\"Sent packet: {pkt}\")\n",
    "sleep(1)\n",
    "\n",
    "nm.dump_packets()"
   ]
  },
  {
   "cell_type": "code",
   "execution_count": 300,
   "id": "3176d597",
   "metadata": {},
   "outputs": [
    {
     "name": "stdout",
     "output_type": "stream",
     "text": [
      "Sent packet: <SetVelocityPacket: actobs_tracker: 100, cart_id: 1, id_: b'v', operation: =, value: 0>\n"
     ]
    }
   ],
   "source": [
    "nm.dump_packets()\n",
    "\n",
    "pkt = SetVelocityPacket(operation=SetOperation.EQUAL, cart_id=CartID.ONE, value=0, actobs_tracker=100)\n",
    "nm.send_packet(pkt)\n",
    "\n",
    "print(f\"Sent packet: {pkt}\")\n",
    "sleep(1)\n",
    "\n",
    "nm.dump_packets()"
   ]
  },
  {
   "cell_type": "code",
   "execution_count": 299,
   "id": "fc0e8801",
   "metadata": {},
   "outputs": [
    {
     "name": "stdout",
     "output_type": "stream",
     "text": [
      "Sent packet: <SetVelocityPacket: actobs_tracker: 100, cart_id: 1, id_: b'v', operation: +, value: -3000>\n"
     ]
    }
   ],
   "source": [
    "nm.dump_packets()\n",
    "\n",
    "pkt = SetVelocityPacket(operation=SetOperation.ADD, cart_id=CartID.ONE, value=-3000, actobs_tracker=100)\n",
    "nm.send_packet(pkt)\n",
    "\n",
    "print(f\"Sent packet: {pkt}\")\n",
    "sleep(1)\n",
    "\n",
    "nm.dump_packets()"
   ]
  },
  {
   "cell_type": "code",
   "execution_count": 4,
   "id": "08e07937-8f8c-4070-a2c4-2e770451c61d",
   "metadata": {},
   "outputs": [],
   "source": [
    "nm.close()"
   ]
  }
 ],
 "metadata": {
  "kernelspec": {
   "display_name": "Python 3.9.13 ('.venv': poetry)",
   "language": "python",
   "name": "python3"
  },
  "language_info": {
   "codemirror_mode": {
    "name": "ipython",
    "version": 3
   },
   "file_extension": ".py",
   "mimetype": "text/x-python",
   "name": "python",
   "nbconvert_exporter": "python",
   "pygments_lexer": "ipython3",
   "version": "3.9.13"
  },
  "vscode": {
   "interpreter": {
    "hash": "74c338272af8f27611fd7a850b67d0923c841dfcc37884e4c53b87fa854722cd"
   }
  }
 },
 "nbformat": 4,
 "nbformat_minor": 5
}
