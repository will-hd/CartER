{
 "cells": [
  {
   "cell_type": "code",
   "execution_count": 55,
   "id": "da996946-e8bf-484b-a978-585013ed4e2c",
   "metadata": {},
   "outputs": [
    {
     "name": "stderr",
     "output_type": "stream",
     "text": [
      "root                          : DEBUG    Sat up logging...\n",
      "root                          : DEBUG    Sat up logging...\n",
      "root                          : DEBUG    Sat up logging...\n",
      "root                          : DEBUG    Sat up logging...\n",
      "root                          : DEBUG    Sat up logging...\n",
      "root                          : DEBUG    Sat up logging...\n",
      "root                          : DEBUG    Sat up logging...\n",
      "root                          : DEBUG    Sat up logging...\n",
      "root                          : DEBUG    Sat up logging...\n",
      "root                          : DEBUG    Sat up logging...\n",
      "root                          : DEBUG    Sat up logging...\n"
     ]
    },
    {
     "name": "stdout",
     "output_type": "stream",
     "text": [
      "The autoreload extension is already loaded. To reload it, use:\n",
      "  %reload_ext autoreload\n",
      "/dev/ttyS5\n",
      "~\u000e\u0000\u0000\u0000=== CartER ===\n",
      "#\u0012\u0000\u0000\u0000Free memory: 83648\n",
      "#\u0015\u0000\u0000\u0000STEPPER_CURRENT: 1000\n",
      "#\u0015\u0000\u0000\u0000STEPPER_MICROSTEPS: 8\n",
      "#(\u0000\u0000\u0000STEPPER_DISTANCE_PER_ROTATION: 40.840694\n",
      "#\u0017\u0000\u0000\u0000SERIAL_BUFFER_SIZE:2048\n",
      "#\u0015\u0000\u0000\u0000track_length_steps: 0\n",
      "#\u001f\u0000\u0000\u0000track_length_distance: 0.000000\n",
      "#\u0012\u0000\u0000\u0000experiment_done: 0\n",
      "\u0000\u0000\u0000run_safely: 0\n",
      "\u0000\u0000\u0000has_failed: 0\n",
      "#\u0011\u0000\u0000\u0000run_mode: REGULAR\n",
      "#\u0018\u0000\u0000\u0000limit_finding_mode: DONE\n",
      "#\u0016\u0000\u0000\u0000limit_check_mode: DONE\n",
      "#\u000e\u0000\u0000\u0000Setting up I2C\n",
      "#\u0013\u0000\u0000\u0000Configuring buttons\n",
      "#\u0014\u0000\u0000\u0000Setting up steppers.\n",
      "#\u0019\u0000\u0000\u0000Starting stepper library.\n",
      "#\u0015\u0000\u0000\u0000Initiating astepper 1\n",
      "#\u001b\u0000\u0000\u0000Setting up stepper drivers.\n",
      "#\u001c\u0000\u0000\u0000Setting up stepper driver 1.\n",
      "#\u0019\u0000\u0000\u0000Starting stepper drivers.\n",
      "#\u001a\u0000\u0000\u0000Starting stepper driver 1.\n",
      "#\u001a\u0000\u0000\u0000Setting up I2C multiplexer\n",
      "#\u0015\u0000\u0000\u0000Reset I2C multiplexer\n",
      "#\u0019\u0000\u0000\u0000Starting rotary encoders.\n",
      "#\u001b\u0000\u0000\u0000Configuring limit switches.\n",
      "#\u001a\u0000\u0000\u0000Setting up timer interrupt\n",
      "#\u000f\u0000\u0000\u0000Config finished\n",
      "\u0000\u0000\u0000Starting loop\n",
      "~\u0016\u0000\u0000\u0000END OF INITIALISATION\n",
      "\n"
     ]
    }
   ],
   "source": [
    "%load_ext autoreload\n",
    "%autoreload 2\n",
    "\n",
    "from commander.network import NetworkManager\n",
    "from commander.network.protocol import (\n",
    "    PingPacket,\n",
    "    SetPositionPacket,\n",
    "    SetVelocityPacket,\n",
    "    FindLimitsPacket,\n",
    "    ObservationPacket,\n",
    "    RequestDebugInfoPacket,\n",
    "    CheckLimitPacket,\n",
    "    DoJigglePacket,\n",
    "    DebugPacket,\n",
    "    InfoPacket,\n",
    "    ErrorPacket,\n",
    "    ExperimentStartPacket,\n",
    "    ExperimentStopPacket\n",
    ")\n",
    "\n",
    "from commander.log import setup_logging\n",
    "\n",
    "from serial.tools import list_ports\n",
    "\n",
    "from commander.network.constants import SetOperation, CartID\n",
    "from time import time, sleep\n",
    "import random\n",
    "import numpy as np\n",
    "\n",
    "setup_logging(file=False)\n",
    "\n",
    "port = list_ports.comports()[0].device\n",
    "print(port)\n",
    "\n",
    "nm = NetworkManager(port=port)\n",
    "nm.open()\n",
    "\n",
    "nm_reset = NetworkManager(port=\"/dev/ttyACM0\")\n",
    "nm_reset.open()\n",
    "nm_reset.close()\n",
    "\n",
    "initialised = False\n",
    "while not initialised:\n",
    "    try:\n",
    "        nm.read_initial_output()\n",
    "    except UnicodeDecodeError:\n",
    "        pass\n",
    "    else:\n",
    "        initialised = True"
   ]
  },
  {
   "cell_type": "code",
   "execution_count": 19,
   "id": "7f2be21e-5fb9-416e-a145-c603477d6394",
   "metadata": {
    "tags": []
   },
   "outputs": [
    {
     "name": "stdout",
     "output_type": "stream",
     "text": [
      "\n"
     ]
    }
   ],
   "source": [
    "print(nm.serial.read_all().decode(\"ASCII\", errors=\"ignore\"))"
   ]
  },
  {
   "cell_type": "code",
   "execution_count": 20,
   "id": "74e6304c-4bb4-40f5-8037-075714aecb18",
   "metadata": {},
   "outputs": [],
   "source": [
    "nm.dump_packets()"
   ]
  },
  {
   "cell_type": "markdown",
   "id": "be080d94-ba13-46f8-8526-12ebd5624391",
   "metadata": {},
   "source": [
    "# PingPacket"
   ]
  },
  {
   "cell_type": "code",
   "execution_count": 15,
   "id": "ca9db8ea-663c-4e48-aeaa-0d67e27de1d0",
   "metadata": {},
   "outputs": [
    {
     "name": "stderr",
     "output_type": "stream",
     "text": [
      "commander.network.network     : DEBUG    Sent packet: <PingPacket: id_: b'p', read_time: None, timestamp: 10>\n",
      "commander.network.network     : DEBUG    Sent packet: <PingPacket: id_: b'p', read_time: None, timestamp: 10>\n",
      "commander.network.network     : DEBUG    Sent packet: <PingPacket: id_: b'p', read_time: None, timestamp: 10>\n",
      "commander.network.network     : DEBUG    Sent packet: <PingPacket: id_: b'p', read_time: None, timestamp: 10>\n",
      "commander.network.network     : DEBUG    Sent packet: <PingPacket: id_: b'p', read_time: None, timestamp: 10>\n",
      "commander.network.network     : DEBUG    Sent packet: <PingPacket: id_: b'p', read_time: None, timestamp: 10>\n",
      "commander.network.network     : DEBUG    Sent packet: <PingPacket: id_: b'p', read_time: None, timestamp: 10>\n",
      "commander.network.network     : DEBUG    Read packet: <PongPacket: id_: b'P', read_time: 2022-07-26 16:57:10.984125, timestamp: 10>\n",
      "commander.network.network     : DEBUG    Read packet: <PongPacket: id_: b'P', read_time: 2022-07-26 16:57:10.984125, timestamp: 10>\n",
      "commander.network.network     : DEBUG    Read packet: <PongPacket: id_: b'P', read_time: 2022-07-26 16:57:10.984125, timestamp: 10>\n",
      "commander.network.network     : DEBUG    Read packet: <PongPacket: id_: b'P', read_time: 2022-07-26 16:57:10.984125, timestamp: 10>\n",
      "commander.network.network     : DEBUG    Read packet: <PongPacket: id_: b'P', read_time: 2022-07-26 16:57:10.984125, timestamp: 10>\n",
      "commander.network.network     : DEBUG    Read packet: <PongPacket: id_: b'P', read_time: 2022-07-26 16:57:10.984125, timestamp: 10>\n",
      "commander.network.network     : DEBUG    Read packet: <PongPacket: id_: b'P', read_time: 2022-07-26 16:57:10.984125, timestamp: 10>\n"
     ]
    },
    {
     "name": "stdout",
     "output_type": "stream",
     "text": [
      "<PongPacket: id_: b'P', read_time: 2022-07-26 16:57:10.984125, timestamp: 10>\n"
     ]
    }
   ],
   "source": [
    "ping_pkt = PingPacket(timestamp=10)\n",
    "nm.send_packet(ping_pkt)\n",
    "\n",
    "pkt = nm.read_packet()\n",
    "print(pkt)"
   ]
  },
  {
   "cell_type": "markdown",
   "id": "fe346888-cfa3-4517-8bd9-ee52e4891e3e",
   "metadata": {},
   "source": [
    "# UnknownPacket"
   ]
  },
  {
   "cell_type": "code",
   "execution_count": 3,
   "id": "8783cdea-17f5-402d-bed4-0a16e4e66d63",
   "metadata": {},
   "outputs": [
    {
     "name": "stderr",
     "output_type": "stream",
     "text": [
      "commander.network.network     : DEBUG    Read packet: <DebugPacket: id_: b'#', msg: Received unknown packet with ID: 97, read_time: 2021-08-20 15:59:08.108702>\n"
     ]
    },
    {
     "name": "stdout",
     "output_type": "stream",
     "text": [
      "<DebugPacket: id_: b'#', msg: Received unknown packet with ID: 97, read_time: 2021-08-20 15:59:08.108702>\n"
     ]
    }
   ],
   "source": [
    "nm.serial.write(b\"a\")\n",
    "pkt = nm.read_packet()\n",
    "print(pkt)"
   ]
  },
  {
   "cell_type": "markdown",
   "id": "630f5db3-93af-45d1-8e3a-b0fbeabc99b7",
   "metadata": {},
   "source": [
    "# RequestDebugInfoPacket"
   ]
  },
  {
   "cell_type": "code",
   "execution_count": 3,
   "id": "94d90197-64e8-44a9-b1e1-0ee96567d5a1",
   "metadata": {},
   "outputs": [
    {
     "name": "stderr",
     "output_type": "stream",
     "text": [
      "commander.network.network     : DEBUG    Read packet: <DebugPacket: id_: b'#', msg: Free memory: 81687, read_time: 2021-08-20 17:48:59.664554>\n",
      "commander.network.network     : DEBUG    Read packet: <DebugPacket: id_: b'#', msg: STEPPER_CURRENT: 1000, read_time: 2021-08-20 17:48:59.665553>\n",
      "commander.network.network     : DEBUG    Read packet: <DebugPacket: id_: b'#', msg: STEPPER_MICROSTEPS: 8, read_time: 2021-08-20 17:48:59.666554>\n",
      "commander.network.network     : DEBUG    Read packet: <DebugPacket: id_: b'#', msg: STEPPER_DISTANCE_PER_ROTATION: 40.840694, read_time: 2021-08-20 17:48:59.667554>\n",
      "commander.network.network     : DEBUG    Read packet: <DebugPacket: id_: b'#', msg: track_length_steps: 0, read_time: 2021-08-20 17:48:59.668555>\n",
      "commander.network.network     : DEBUG    Read packet: <DebugPacket: id_: b'#', msg: track_length_distance: 0.000000, read_time: 2021-08-20 17:48:59.672553>\n",
      "commander.network.network     : DEBUG    Read packet: <DebugPacket: id_: b'#', msg: experiment_done: 0, read_time: 2021-08-20 17:48:59.676553>\n",
      "commander.network.network     : DEBUG    Read packet: <DebugPacket: id_: b'#', msg: run_safely: 0, read_time: 2021-08-20 17:48:59.680553>\n",
      "commander.network.network     : DEBUG    Read packet: <DebugPacket: id_: b'#', msg: has_failed: 0, read_time: 2021-08-20 17:48:59.681556>\n",
      "commander.network.network     : DEBUG    Read packet: <DebugPacket: id_: b'#', msg: limit_finding_mode: DONE, read_time: 2021-08-20 17:48:59.684553>\n",
      "commander.network.network     : DEBUG    Read packet: <DebugPacket: id_: b'#', msg: limit_check_mode: DONE, read_time: 2021-08-20 17:48:59.688555>\n"
     ]
    },
    {
     "name": "stdout",
     "output_type": "stream",
     "text": [
      "<DebugPacket: id_: b'#', msg: Free memory: 81687, read_time: 2021-08-20 17:48:59.664554>\n",
      "<DebugPacket: id_: b'#', msg: STEPPER_CURRENT: 1000, read_time: 2021-08-20 17:48:59.665553>\n",
      "<DebugPacket: id_: b'#', msg: STEPPER_MICROSTEPS: 8, read_time: 2021-08-20 17:48:59.666554>\n",
      "<DebugPacket: id_: b'#', msg: STEPPER_DISTANCE_PER_ROTATION: 40.840694, read_time: 2021-08-20 17:48:59.667554>\n",
      "<DebugPacket: id_: b'#', msg: track_length_steps: 0, read_time: 2021-08-20 17:48:59.668555>\n",
      "<DebugPacket: id_: b'#', msg: track_length_distance: 0.000000, read_time: 2021-08-20 17:48:59.672553>\n",
      "<DebugPacket: id_: b'#', msg: experiment_done: 0, read_time: 2021-08-20 17:48:59.676553>\n",
      "<DebugPacket: id_: b'#', msg: run_safely: 0, read_time: 2021-08-20 17:48:59.680553>\n",
      "<DebugPacket: id_: b'#', msg: has_failed: 0, read_time: 2021-08-20 17:48:59.681556>\n",
      "<DebugPacket: id_: b'#', msg: limit_finding_mode: DONE, read_time: 2021-08-20 17:48:59.684553>\n",
      "<DebugPacket: id_: b'#', msg: limit_check_mode: DONE, read_time: 2021-08-20 17:48:59.688555>\n"
     ]
    }
   ],
   "source": [
    "request_dbg_pkt = RequestDebugInfoPacket()\n",
    "nm.send_packet(request_dbg_pkt)\n",
    "\n",
    "sleep(0.010)\n",
    "nm.dump_packets()"
   ]
  },
  {
   "cell_type": "markdown",
   "id": "c493a9bd-46e5-47ee-a7a1-2de6b3e2a4a2",
   "metadata": {},
   "source": [
    "# FindLimitsPacket"
   ]
  },
  {
   "cell_type": "code",
   "execution_count": 16,
   "id": "0ea10855-8c46-4872-b0d9-63bc92f58cb2",
   "metadata": {},
   "outputs": [
    {
     "name": "stderr",
     "output_type": "stream",
     "text": [
      "commander.network.network     : DEBUG    Sent packet: <FindLimitsPacket: id_: b'|', read_time: None>\n",
      "commander.network.network     : DEBUG    Sent packet: <FindLimitsPacket: id_: b'|', read_time: None>\n",
      "commander.network.network     : DEBUG    Sent packet: <FindLimitsPacket: id_: b'|', read_time: None>\n",
      "commander.network.network     : DEBUG    Sent packet: <FindLimitsPacket: id_: b'|', read_time: None>\n",
      "commander.network.network     : DEBUG    Sent packet: <FindLimitsPacket: id_: b'|', read_time: None>\n",
      "commander.network.network     : DEBUG    Sent packet: <FindLimitsPacket: id_: b'|', read_time: None>\n",
      "commander.network.network     : DEBUG    Sent packet: <FindLimitsPacket: id_: b'|', read_time: None>\n"
     ]
    },
    {
     "name": "stdout",
     "output_type": "stream",
     "text": [
      "Sent packet: <FindLimitsPacket: id_: b'|', read_time: None>\n",
      "<InfoPacket: id_: b'~', msg: LimitFinder: LEFT LIMIT HIT [fast], read_time: 2022-07-26 16:57:17.980716>\n",
      "<InfoPacket: id_: b'~', msg: LimitFinder: LEFT LIMIT RETRACTED, read_time: 2022-07-26 16:57:18.204467>\n",
      "<InfoPacket: id_: b'~', msg: LimitFinder: LEFT LIMIT HIT [slow], read_time: 2022-07-26 16:57:18.766741>\n",
      "<InfoPacket: id_: b'~', msg: LimitFinder: LEFT LIMIT SET, read_time: 2022-07-26 16:57:18.771958>\n",
      "<InfoPacket: id_: b'~', msg: LimitFinder: RIGHT LIMIT HIT [fast], read_time: 2022-07-26 16:57:31.225118>\n",
      "<InfoPacket: id_: b'~', msg: LimitFinder: RIGHT LIMIT RETRACTED, read_time: 2022-07-26 16:57:31.430139>\n"
     ]
    },
    {
     "name": "stderr",
     "output_type": "stream",
     "text": [
      "commander.network.network     : DEBUG    Read packet: <ExperimentInfoPacket: cart_id: 0, id_: b':', read_time: 2022-07-26 16:57:31.900456, specifier: 3, value: 25027>\n",
      "commander.network.network     : DEBUG    Read packet: <ExperimentInfoPacket: cart_id: 0, id_: b':', read_time: 2022-07-26 16:57:31.900456, specifier: 3, value: 25027>\n",
      "commander.network.network     : DEBUG    Read packet: <ExperimentInfoPacket: cart_id: 0, id_: b':', read_time: 2022-07-26 16:57:31.900456, specifier: 3, value: 25027>\n",
      "commander.network.network     : DEBUG    Read packet: <ExperimentInfoPacket: cart_id: 0, id_: b':', read_time: 2022-07-26 16:57:31.900456, specifier: 3, value: 25027>\n",
      "commander.network.network     : DEBUG    Read packet: <ExperimentInfoPacket: cart_id: 0, id_: b':', read_time: 2022-07-26 16:57:31.900456, specifier: 3, value: 25027>\n",
      "commander.network.network     : DEBUG    Read packet: <ExperimentInfoPacket: cart_id: 0, id_: b':', read_time: 2022-07-26 16:57:31.900456, specifier: 3, value: 25027>\n",
      "commander.network.network     : DEBUG    Read packet: <ExperimentInfoPacket: cart_id: 0, id_: b':', read_time: 2022-07-26 16:57:31.900456, specifier: 3, value: 25027>\n"
     ]
    },
    {
     "name": "stdout",
     "output_type": "stream",
     "text": [
      "<InfoPacket: id_: b'~', msg: LimitFinder: RIGHT LIMIT HIT [slow], read_time: 2022-07-26 16:57:31.897042>\n",
      "<ExperimentInfoPacket: cart_id: 0, id_: b':', read_time: 2022-07-26 16:57:31.900456, specifier: 3, value: 25027>\n"
     ]
    },
    {
     "name": "stderr",
     "output_type": "stream",
     "text": [
      "commander.network.network     : DEBUG    Read packet: <FindLimitsPacket: id_: b'|', read_time: 2022-07-26 16:57:33.128571>\n",
      "commander.network.network     : DEBUG    Read packet: <FindLimitsPacket: id_: b'|', read_time: 2022-07-26 16:57:33.128571>\n",
      "commander.network.network     : DEBUG    Read packet: <FindLimitsPacket: id_: b'|', read_time: 2022-07-26 16:57:33.128571>\n",
      "commander.network.network     : DEBUG    Read packet: <FindLimitsPacket: id_: b'|', read_time: 2022-07-26 16:57:33.128571>\n",
      "commander.network.network     : DEBUG    Read packet: <FindLimitsPacket: id_: b'|', read_time: 2022-07-26 16:57:33.128571>\n",
      "commander.network.network     : DEBUG    Read packet: <FindLimitsPacket: id_: b'|', read_time: 2022-07-26 16:57:33.128571>\n",
      "commander.network.network     : DEBUG    Read packet: <FindLimitsPacket: id_: b'|', read_time: 2022-07-26 16:57:33.128571>\n"
     ]
    },
    {
     "name": "stdout",
     "output_type": "stream",
     "text": [
      "<InfoPacket: id_: b'~', msg: LimitFinder: NOW DONE, read_time: 2022-07-26 16:57:33.126376>\n",
      "<FindLimitsPacket: id_: b'|', read_time: 2022-07-26 16:57:33.128571>\n"
     ]
    }
   ],
   "source": [
    "PKT = FindLimitsPacket\n",
    "nm.dump_packets()\n",
    "\n",
    "pkt = PKT()\n",
    "nm.send_packet(pkt)\n",
    "print(f\"Sent packet: {pkt}\")\n",
    "\n",
    "response_pkt = nm.get_packet(PKT, block=True, callback=nm.printer_callback(excepts=(PKT, )))\n",
    "nm.dump_packets()\n",
    "print(response_pkt)"
   ]
  },
  {
   "cell_type": "markdown",
   "id": "56728df8-b02d-4dc1-b2f1-5c91f638f293",
   "metadata": {},
   "source": [
    "# CheckLimitPacket"
   ]
  },
  {
   "cell_type": "code",
   "execution_count": 8,
   "id": "a8c7e744-1c1b-4758-a6b2-4cfd6c6790e0",
   "metadata": {},
   "outputs": [
    {
     "name": "stderr",
     "output_type": "stream",
     "text": [
      "commander.network.network     : DEBUG    Read packet: <InfoPacket: id_: b'~', msg: Stopped steppers., read_time: 2021-08-20 17:55:45.516643>\n",
      "commander.network.network     : DEBUG    Read packet: <SoftLimitReachedPacket: id_: b'\\\\', read_time: 2021-08-20 17:55:45.518561>\n",
      "commander.network.network     : DEBUG    Read packet: <ExperimentInfoPacket: cart_id: 1, id_: b':', read_time: 2021-08-20 17:55:45.519563, specifier: 2, value: -1>\n"
     ]
    },
    {
     "name": "stdout",
     "output_type": "stream",
     "text": [
      "<InfoPacket: id_: b'~', msg: Stopped steppers., read_time: 2021-08-20 17:55:45.516643>\n",
      "<SoftLimitReachedPacket: id_: b'\\\\', read_time: 2021-08-20 17:55:45.518561>\n",
      "<ExperimentInfoPacket: cart_id: 1, id_: b':', read_time: 2021-08-20 17:55:45.519563, specifier: 2, value: -1>\n",
      "Sent packet: <CheckLimitPacket: id_: b'/', read_time: None>\n"
     ]
    },
    {
     "name": "stderr",
     "output_type": "stream",
     "text": [
      "commander.network.network     : DEBUG    Read packet: <InfoPacket: id_: b'~', msg: LimitChecker: LEFT LIMIT HIT [fast], read_time: 2021-08-20 17:55:46.252559>\n"
     ]
    },
    {
     "name": "stdout",
     "output_type": "stream",
     "text": [
      "<InfoPacket: id_: b'~', msg: LimitChecker: LEFT LIMIT HIT [fast], read_time: 2021-08-20 17:55:46.252559>\n"
     ]
    },
    {
     "name": "stderr",
     "output_type": "stream",
     "text": [
      "commander.network.network     : DEBUG    Read packet: <InfoPacket: id_: b'~', msg: LimitChecker: LEFT LIMIT RETRACTED, read_time: 2021-08-20 17:55:46.702649>\n"
     ]
    },
    {
     "name": "stdout",
     "output_type": "stream",
     "text": [
      "<InfoPacket: id_: b'~', msg: LimitChecker: LEFT LIMIT RETRACTED, read_time: 2021-08-20 17:55:46.702649>\n"
     ]
    },
    {
     "name": "stderr",
     "output_type": "stream",
     "text": [
      "commander.network.network     : DEBUG    Read packet: <InfoPacket: id_: b'~', msg: LimitChecker: LEFT LIMIT HIT [slow], read_time: 2021-08-20 17:55:48.853561>\n",
      "commander.network.network     : DEBUG    Read packet: <InfoPacket: id_: b'~', msg: LimitChecker: LEFT LIMIT GET, read_time: 2021-08-20 17:55:48.858561>\n",
      "commander.network.network     : DEBUG    Read packet: <InfoPacket: id_: b'~', msg: LimitChecker: New limit was 2, read_time: 2021-08-20 17:55:48.862562>\n",
      "commander.network.network     : DEBUG    Read packet: <ExperimentInfoPacket: cart_id: 1, id_: b':', read_time: 2021-08-20 17:55:48.866563, specifier: 1, value: 2>\n",
      "commander.network.network     : DEBUG    Read packet: <DebugPacket: id_: b'#', msg: A, read_time: 2021-08-20 17:55:48.870604>\n"
     ]
    },
    {
     "name": "stdout",
     "output_type": "stream",
     "text": [
      "<InfoPacket: id_: b'~', msg: LimitChecker: LEFT LIMIT HIT [slow], read_time: 2021-08-20 17:55:48.853561>\n",
      "<InfoPacket: id_: b'~', msg: LimitChecker: LEFT LIMIT GET, read_time: 2021-08-20 17:55:48.858561>\n",
      "<InfoPacket: id_: b'~', msg: LimitChecker: New limit was 2, read_time: 2021-08-20 17:55:48.862562>\n",
      "<ExperimentInfoPacket: cart_id: 1, id_: b':', read_time: 2021-08-20 17:55:48.866563, specifier: 1, value: 2>\n",
      "<DebugPacket: id_: b'#', msg: A, read_time: 2021-08-20 17:55:48.870604>\n"
     ]
    },
    {
     "name": "stderr",
     "output_type": "stream",
     "text": [
      "commander.network.network     : DEBUG    Read packet: <DebugPacket: id_: b'#', msg: B, read_time: 2021-08-20 17:55:49.856561>\n"
     ]
    },
    {
     "name": "stdout",
     "output_type": "stream",
     "text": [
      "<DebugPacket: id_: b'#', msg: B, read_time: 2021-08-20 17:55:49.856561>\n"
     ]
    },
    {
     "name": "stderr",
     "output_type": "stream",
     "text": [
      "commander.network.network     : DEBUG    Read packet: <DebugPacket: id_: b'#', msg: C, read_time: 2021-08-20 17:55:50.856648>\n"
     ]
    },
    {
     "name": "stdout",
     "output_type": "stream",
     "text": [
      "<DebugPacket: id_: b'#', msg: C, read_time: 2021-08-20 17:55:50.856648>\n"
     ]
    },
    {
     "name": "stderr",
     "output_type": "stream",
     "text": [
      "commander.network.network     : DEBUG    Read packet: <InfoPacket: id_: b'~', msg: LimitChecker: NOW DONE, read_time: 2021-08-20 17:55:53.268659>\n",
      "commander.network.network     : DEBUG    Read packet: <CheckLimitPacket: id_: b'/', read_time: 2021-08-20 17:55:53.274562>\n"
     ]
    },
    {
     "name": "stdout",
     "output_type": "stream",
     "text": [
      "<InfoPacket: id_: b'~', msg: LimitChecker: NOW DONE, read_time: 2021-08-20 17:55:53.268659>\n",
      "<CheckLimitPacket: id_: b'/', read_time: 2021-08-20 17:55:53.274562>\n"
     ]
    }
   ],
   "source": [
    "PKT = CheckLimitPacket\n",
    "nm.dump_packets()\n",
    "\n",
    "pkt = PKT()\n",
    "nm.send_packet(pkt)\n",
    "print(f\"Sent packet: {pkt}\")\n",
    "\n",
    "response_pkt = nm.get_packet(PKT, block=True, callback=nm.printer_callback(excepts=(PKT, )))\n",
    "nm.dump_packets()\n",
    "print(response_pkt)"
   ]
  },
  {
   "cell_type": "markdown",
   "id": "b17a0cfe-1f86-460a-a70f-bec4a4a46510",
   "metadata": {},
   "source": [
    "# DoJigglePacket"
   ]
  },
  {
   "cell_type": "code",
   "execution_count": 5,
   "id": "845817d6-cf2a-4e95-9cec-09cc183533df",
   "metadata": {},
   "outputs": [
    {
     "name": "stderr",
     "output_type": "stream",
     "text": [
      "commander.network.network     : DEBUG    Read packet: <InfoPacket: id_: b'~', msg: Stopped steppers., read_time: 2021-08-20 17:10:38.401963>\n",
      "commander.network.network     : DEBUG    Read packet: <SoftLimitReachedPacket: id_: b'\\\\', read_time: 2021-08-20 17:10:38.403878>\n",
      "commander.network.network     : DEBUG    Read packet: <ExperimentInfoPacket: cart_id: 1, id_: b':', read_time: 2021-08-20 17:10:38.404886, specifier: 2, value: -1>\n"
     ]
    },
    {
     "name": "stdout",
     "output_type": "stream",
     "text": [
      "<InfoPacket: id_: b'~', msg: Stopped steppers., read_time: 2021-08-20 17:10:38.401963>\n",
      "<SoftLimitReachedPacket: id_: b'\\\\', read_time: 2021-08-20 17:10:38.403878>\n",
      "<ExperimentInfoPacket: cart_id: 1, id_: b':', read_time: 2021-08-20 17:10:38.404886, specifier: 2, value: -1>\n",
      "Sent packet: <DoJigglePacket: id_: b'\\xa7', read_time: None>\n"
     ]
    },
    {
     "name": "stderr",
     "output_type": "stream",
     "text": [
      "commander.network.network     : DEBUG    Read packet: <DoJigglePacket: id_: b'\\xa7', read_time: 2021-08-20 17:10:41.203342>\n"
     ]
    },
    {
     "name": "stdout",
     "output_type": "stream",
     "text": [
      "<DoJigglePacket: id_: b'\\xa7', read_time: 2021-08-20 17:10:41.203342>\n"
     ]
    }
   ],
   "source": [
    "PKT = DoJigglePacket\n",
    "nm.dump_packets()\n",
    "\n",
    "pkt = PKT()\n",
    "nm.send_packet(pkt)\n",
    "print(f\"Sent packet: {pkt}\")\n",
    "\n",
    "response_pkt = nm.get_packet(PKT, block=True, callback=nm.printer_callback(excepts=(PKT, )))\n",
    "nm.dump_packets()\n",
    "print(response_pkt)"
   ]
  },
  {
   "cell_type": "markdown",
   "id": "e289546b-8062-40c4-acaa-47ebfde2d079",
   "metadata": {},
   "source": [
    "# SetPositionPacket"
   ]
  },
  {
   "cell_type": "code",
   "execution_count": 21,
   "id": "56dba633-cb11-4b4a-b99e-4272e741c7f6",
   "metadata": {},
   "outputs": [
    {
     "ename": "TypeError",
     "evalue": "__init__() missing 1 required positional argument: 'actobs_tracker'",
     "output_type": "error",
     "traceback": [
      "\u001b[0;31m---------------------------------------------------------------------------\u001b[0m",
      "\u001b[0;31mTypeError\u001b[0m                                 Traceback (most recent call last)",
      "\u001b[0;32m/tmp/ipykernel_7394/2764897543.py\u001b[0m in \u001b[0;36m<module>\u001b[0;34m\u001b[0m\n\u001b[1;32m      1\u001b[0m \u001b[0mnm\u001b[0m\u001b[0;34m.\u001b[0m\u001b[0mdump_packets\u001b[0m\u001b[0;34m(\u001b[0m\u001b[0;34m)\u001b[0m\u001b[0;34m\u001b[0m\u001b[0;34m\u001b[0m\u001b[0m\n\u001b[1;32m      2\u001b[0m \u001b[0;34m\u001b[0m\u001b[0m\n\u001b[0;32m----> 3\u001b[0;31m \u001b[0mpkt\u001b[0m \u001b[0;34m=\u001b[0m \u001b[0mSetPositionPacket\u001b[0m\u001b[0;34m(\u001b[0m\u001b[0moperation\u001b[0m\u001b[0;34m=\u001b[0m\u001b[0mSetOperation\u001b[0m\u001b[0;34m.\u001b[0m\u001b[0mEQUAL\u001b[0m\u001b[0;34m,\u001b[0m \u001b[0mcart_id\u001b[0m\u001b[0;34m=\u001b[0m\u001b[0mCartID\u001b[0m\u001b[0;34m.\u001b[0m\u001b[0mONE\u001b[0m\u001b[0;34m,\u001b[0m \u001b[0mvalue\u001b[0m\u001b[0;34m=\u001b[0m\u001b[0;36m500\u001b[0m\u001b[0;34m)\u001b[0m\u001b[0;34m\u001b[0m\u001b[0;34m\u001b[0m\u001b[0m\n\u001b[0m\u001b[1;32m      4\u001b[0m \u001b[0mnm\u001b[0m\u001b[0;34m.\u001b[0m\u001b[0msend_packet\u001b[0m\u001b[0;34m(\u001b[0m\u001b[0mpkt\u001b[0m\u001b[0;34m)\u001b[0m\u001b[0;34m\u001b[0m\u001b[0;34m\u001b[0m\u001b[0m\n\u001b[1;32m      5\u001b[0m \u001b[0;34m\u001b[0m\u001b[0m\n",
      "\u001b[0;31mTypeError\u001b[0m: __init__() missing 1 required positional argument: 'actobs_tracker'"
     ]
    }
   ],
   "source": [
    "nm.dump_packets()\n",
    "\n",
    "pkt = SetPositionPacket(operation=SetOperation.EQUAL, cart_id=CartID.ONE, value=500)\n",
    "nm.send_packet(pkt)\n",
    "\n",
    "print(f\"Sent packet: {pkt}\")\n",
    "\n",
    "nm.dump_packets()"
   ]
  },
  {
   "cell_type": "markdown",
   "id": "9018684f-08bf-4724-80cd-5d2c74155a9d",
   "metadata": {},
   "source": [
    "# SetVelocityPacket"
   ]
  },
  {
   "cell_type": "code",
   "execution_count": 64,
   "id": "b9b66d33-65e9-4d24-86e0-c01ad148c57e",
   "metadata": {},
   "outputs": [
    {
     "name": "stdout",
     "output_type": "stream",
     "text": [
      "Sent packet: <SetVelocityPacket: actobs_tracker: 100, cart_id: 1, id_: b'v', operation: +, value: 2000>\n"
     ]
    }
   ],
   "source": [
    "nm.dump_packets()\n",
    "value = 2000\n",
    "pkt = SetVelocityPacket(operation=SetOperation.ADD, cart_id=CartID.ONE, value=value, actobs_tracker=100)\n",
    "nm.send_packet(pkt)\n",
    "\n",
    "print(f\"Sent packet: {pkt}\")\n",
    "sleep(1)\n",
    "\n",
    "nm.dump_packets()"
   ]
  },
  {
   "cell_type": "code",
   "execution_count": 65,
   "id": "fc0e8801",
   "metadata": {},
   "outputs": [
    {
     "name": "stdout",
     "output_type": "stream",
     "text": [
      "Sent packet: <SetVelocityPacket: actobs_tracker: 100, cart_id: 1, id_: b'v', operation: +, value: -2000>\n"
     ]
    }
   ],
   "source": [
    "nm.dump_packets()\n",
    "\n",
    "pkt = SetVelocityPacket(operation=SetOperation.ADD, cart_id=CartID.ONE, value=-value, actobs_tracker=100)\n",
    "nm.send_packet(pkt)\n",
    "\n",
    "print(f\"Sent packet: {pkt}\")\n",
    "sleep(1)\n",
    "\n",
    "nm.dump_packets()"
   ]
  },
  {
   "cell_type": "code",
   "execution_count": 4,
   "id": "08e07937-8f8c-4070-a2c4-2e770451c61d",
   "metadata": {},
   "outputs": [],
   "source": [
    "nm.close()"
   ]
  }
 ],
 "metadata": {
  "kernelspec": {
   "display_name": "Python 3 (ipykernel)",
   "language": "python",
   "name": "python3"
  },
  "language_info": {
   "codemirror_mode": {
    "name": "ipython",
    "version": 3
   },
   "file_extension": ".py",
   "mimetype": "text/x-python",
   "name": "python",
   "nbconvert_exporter": "python",
   "pygments_lexer": "ipython3",
   "version": "3.9.6"
  }
 },
 "nbformat": 4,
 "nbformat_minor": 5
}
