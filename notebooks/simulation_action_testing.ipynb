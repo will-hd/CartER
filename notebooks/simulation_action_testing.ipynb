{
 "cells": [
  {
   "cell_type": "code",
   "execution_count": 1,
   "metadata": {},
   "outputs": [],
   "source": [
    "import numpy as np\n",
    "import re"
   ]
  },
  {
   "cell_type": "code",
   "execution_count": 15,
   "metadata": {},
   "outputs": [
    {
     "name": "stdout",
     "output_type": "stream",
     "text": [
      "49047\n",
      "Positive actions: 22448, Negative actions: 26599, Total count: 49047\n"
     ]
    }
   ],
   "source": [
    "with open(\"../logs/commander_2022-07-20_16-19-35_simulate.log\") as f:\n",
    "    log = f.read()\n",
    "\n",
    "    actions = re.findall(r\"(?<=DEBUG\\s{4})\\d{1}\", log)\n",
    "\n",
    "total_cnt = 0 \n",
    "plus_cnt = 0\n",
    "minus_cnt = 0\n",
    "for value in actions:\n",
    "    \n",
    "    if value == \"1\":\n",
    "        minus_cnt += 1\n",
    "        total_cnt += 1\n",
    "    elif value == \"0\":\n",
    "        plus_cnt += 1\n",
    "        total_cnt += 1\n",
    "print(minus_cnt+plus_cnt)\n",
    "\n",
    "print(f\"Positive actions: {plus_cnt}, Negative actions: {minus_cnt}, Total count: {total_cnt}\")"
   ]
  },
  {
   "cell_type": "code",
   "execution_count": 19,
   "metadata": {},
   "outputs": [
    {
     "name": "stdout",
     "output_type": "stream",
     "text": [
      "9488\n",
      "Positive actions: 5139, Negative actions: 4349, Total count: 9488\n"
     ]
    }
   ],
   "source": [
    "with open(\"../logs/commander_2022-07-20_16-40-53_simulate.log\") as f:\n",
    "    log = f.read()\n",
    "\n",
    "    actions = re.findall(r\"(?<=DEBUG\\s{4})\\d{1}\", log)\n",
    "\n",
    "total_cnt = 0 \n",
    "plus_cnt = 0\n",
    "minus_cnt = 0\n",
    "for value in actions:\n",
    "    \n",
    "    if value == \"1\":\n",
    "        minus_cnt += 1\n",
    "        total_cnt += 1\n",
    "    elif value == \"0\":\n",
    "        plus_cnt += 1\n",
    "        total_cnt += 1\n",
    "print(minus_cnt+plus_cnt)\n",
    "\n",
    "print(f\"Positive actions: {plus_cnt}, Negative actions: {minus_cnt}, Total count: {total_cnt}\")"
   ]
  },
  {
   "cell_type": "code",
   "execution_count": 17,
   "metadata": {},
   "outputs": [
    {
     "name": "stdout",
     "output_type": "stream",
     "text": [
      "14401\n",
      "Positive actions: 6664, Negative actions: 7737, Total count: 14401\n"
     ]
    }
   ],
   "source": [
    "with open(\"../logs/commander_2022-07-20_16-33-15_simulate.log\") as f:\n",
    "    log = f.read()\n",
    "\n",
    "    actions = re.findall(r\"(?<=DEBUG\\s{4})\\d{1}\", log)\n",
    "\n",
    "total_cnt = 0 \n",
    "plus_cnt = 0\n",
    "minus_cnt = 0\n",
    "for value in actions:\n",
    "    \n",
    "    if value == \"1\":\n",
    "        minus_cnt += 1\n",
    "        total_cnt += 1\n",
    "    elif value == \"0\":\n",
    "        plus_cnt += 1\n",
    "        total_cnt += 1\n",
    "print(minus_cnt+plus_cnt)\n",
    "\n",
    "print(f\"Positive actions: {plus_cnt}, Negative actions: {minus_cnt}, Total count: {total_cnt}\")"
   ]
  },
  {
   "cell_type": "code",
   "execution_count": null,
   "metadata": {},
   "outputs": [],
   "source": [
    "with open(\"commander_2022-07-18_17-11-19_experiment longrun.log\") as f:\n",
    "    log = f.read()\n",
    "    print(log[:100])\n",
    "    actions = re.findall(r\"(?<=value:\\s)\\D?\\d{2}\", log)\n",
    "total_cnt = 0 \n",
    "plus_cnt = 0\n",
    "minus_cnt = 0\n",
    "for value in actions:\n",
    "    \n",
    "    if value == \"-50\":\n",
    "        minus_cnt += 1\n",
    "        total_cnt += 1\n",
    "    elif value == \"50\":\n",
    "        plus_cnt += 1\n",
    "        total_cnt += 1\n",
    "print(minus_cnt+plus_cnt)\n",
    "\n",
    "print(f\"Positive actions: {plus_cnt}, Negative actions: {minus_cnt}, Total count: {total_cnt}\")"
   ]
  }
 ],
 "metadata": {
  "kernelspec": {
   "display_name": "Python 3.9.5 ('.venv': poetry)",
   "language": "python",
   "name": "python3"
  },
  "language_info": {
   "codemirror_mode": {
    "name": "ipython",
    "version": 3
   },
   "file_extension": ".py",
   "mimetype": "text/x-python",
   "name": "python",
   "nbconvert_exporter": "python",
   "pygments_lexer": "ipython3",
   "version": "3.9.5"
  },
  "orig_nbformat": 4,
  "vscode": {
   "interpreter": {
    "hash": "185596214195b2bb38c4759d90e2bf136bd3c46539160ee745f48765fe5c87bc"
   }
  }
 },
 "nbformat": 4,
 "nbformat_minor": 2
}
