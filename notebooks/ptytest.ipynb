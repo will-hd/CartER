{
 "cells": [
  {
   "cell_type": "code",
   "execution_count": null,
   "metadata": {},
   "outputs": [],
   "source": [
    "### Example Code ###\n",
    "# See: https://stackoverflow.com/questions/2291772/virtual-serial-device-in-python\n",
    "'''\n",
    "import os, pty, serial\n",
    "\n",
    "master, slave = pty.openpty()\n",
    "s_name = os.ttyname(slave)\n",
    "\n",
    "ser = serial.Serial(s_name)\n",
    "\n",
    "# To Write to the device\n",
    "ser.write('Your text')\n",
    "\n",
    "# To read from the device\n",
    "os.read(master,1000)\n",
    "'''\n"
   ]
  },
  {
   "cell_type": "code",
   "execution_count": 1,
   "metadata": {},
   "outputs": [],
   "source": [
    "import os, pty, serial"
   ]
  },
  {
   "cell_type": "code",
   "execution_count": null,
   "metadata": {},
   "outputs": [],
   "source": []
  },
  {
   "cell_type": "markdown",
   "metadata": {},
   "source": [
    "lsof -n | grep pts to see open file handles"
   ]
  },
  {
   "cell_type": "code",
   "execution_count": 59,
   "metadata": {},
   "outputs": [
    {
     "name": "stdout",
     "output_type": "stream",
     "text": [
      "/dev/pts/7\n",
      "127\n"
     ]
    }
   ],
   "source": [
    "master, slave = pty.openpty()\n",
    "print(os.ttyname(slave))\n",
    "os.close(master)\n",
    "os.close(slave)\n",
    "print(slave)"
   ]
  },
  {
   "cell_type": "code",
   "execution_count": 60,
   "metadata": {},
   "outputs": [
    {
     "name": "stdout",
     "output_type": "stream",
     "text": [
      "127\n"
     ]
    }
   ],
   "source": [
    "os.close(slave)\n",
    "print(slave)"
   ]
  },
  {
   "cell_type": "code",
   "execution_count": 71,
   "metadata": {},
   "outputs": [],
   "source": [
    "os.close(128)"
   ]
  },
  {
   "cell_type": "code",
   "execution_count": 112,
   "metadata": {},
   "outputs": [
    {
     "name": "stdout",
     "output_type": "stream",
     "text": [
      "127\n",
      "128\n",
      "129\n",
      "130\n",
      "131\n",
      "132\n",
      "133\n",
      "134\n",
      "135\n",
      "136\n",
      "137\n",
      "138\n",
      "139\n",
      "140\n",
      "141\n",
      "142\n",
      "143\n",
      "144\n",
      "145\n",
      "146\n",
      "147\n",
      "148\n",
      "149\n",
      "150\n",
      "151\n"
     ]
    }
   ],
   "source": [
    "for i in range(127, 152):\n",
    "    print(i)\n",
    "    try:\n",
    "        os.close(i)\n",
    "    except:\n",
    "        pass"
   ]
  },
  {
   "cell_type": "code",
   "execution_count": 97,
   "metadata": {},
   "outputs": [
    {
     "name": "stdout",
     "output_type": "stream",
     "text": [
      "b'Your text'\n"
     ]
    }
   ],
   "source": [
    "import os, pty, serial\n",
    "\n",
    "master, slave = pty.openpty()\n",
    "s_name = os.ttyname(slave)\n",
    "\n",
    "ser = serial.Serial(s_name)\n",
    "\n",
    "# To Write to the device\n",
    "ser.write('Your text'.encode())\n",
    "\n",
    "# To read from the device\n",
    "read_bytes = os.read(master,1000)\n",
    "print(read_bytes)\n",
    "ser.close()\n",
    "os.close(master)\n",
    "os.close(slave)"
   ]
  },
  {
   "cell_type": "code",
   "execution_count": 113,
   "metadata": {},
   "outputs": [
    {
     "name": "stdout",
     "output_type": "stream",
     "text": [
      "here1\n",
      "here2\n",
      "127 128\n",
      "here3\n",
      "here\n",
      "b'Hello\\n'\n",
      "127 128\n",
      "master Close alread with with\n"
     ]
    }
   ],
   "source": [
    "\"\"\"\n",
    "Test PTY related functionality. Taken from https://github.com/pyserial/pyserial/blob/7bd427087857ba474180058b727578ca4cec5e2e/test/test_pty.py\n",
    "\"\"\"\n",
    "\n",
    "import os\n",
    "import sys\n",
    "import serial\n",
    "\n",
    "DATA = b'Hello\\n'\n",
    "\n",
    "class Test_Pty_Serial_Open:\n",
    "    \"\"\"Test PTY serial open\"\"\"\n",
    "    print(\"here1\")\n",
    "    def __init__(self):\n",
    "        ...\n",
    "\n",
    "    def setUp(self):\n",
    "        # Open PTY\n",
    "        self.master, self.slave = pty.openpty()\n",
    "        print(\"here2\")\n",
    "        print(self.master, self.slave)\n",
    "\n",
    "    def test_pty_serial_open_slave(self):\n",
    "        with serial.Serial(os.ttyname(self.slave), timeout=1) as slave:\n",
    "            pass  # OK\n",
    "\n",
    "    def test_pty_serial_write(self):\n",
    "        print(\"here3\")\n",
    "        with serial.Serial(os.ttyname(self.slave), timeout=1) as slave:\n",
    "            with os.fdopen(self.master, \"wb\") as fd:\n",
    "                fd.write(DATA)\n",
    "                fd.flush()\n",
    "                out = slave.read(len(DATA))\n",
    "                print(\"here\")\n",
    "                print(out)\n",
    "                slave.close()\n",
    "                # self.assertEqual(DATA, out)\n",
    "                \n",
    "\n",
    "    def test_pty_serial_read(self):\n",
    "        with serial.Serial(os.ttyname(self.slave), timeout=1) as slave:\n",
    "            with os.fdopen(self.master, \"rb\") as fd:\n",
    "                slave.write(DATA)\n",
    "                slave.flush()\n",
    "                out = fd.read(len(DATA))\n",
    "                # self.assertEqual(DATA, out)\n",
    "\n",
    "    def close(self):\n",
    "        print(self.master, self.slave)\n",
    "        # Not sure if actually needed, but keeps lsof -n | grep pts cleaner\n",
    "        try:\n",
    "            os.close(self.master)\n",
    "        except:\n",
    "            print(\"master Close alread with with\")\n",
    "\n",
    "        try:\n",
    "            os.close(self.slave)\n",
    "        except:\n",
    "            print(\"slave Close alread with with\")\n",
    "serial_test = Test_Pty_Serial_Open()\n",
    "serial_test.setUp()\n",
    "serial_test.test_pty_serial_write()\n",
    "serial_test.close()"
   ]
  }
 ],
 "metadata": {
  "kernelspec": {
<<<<<<< HEAD
   "display_name": "Python 3.9.5 ('.venv': poetry)",
=======
   "display_name": "Python 3.9.10 ('.venv': poetry)",
>>>>>>> 4f613b86cc6fa10cdd9a3105d498bdc6fd74af18
   "language": "python",
   "name": "python3"
  },
  "language_info": {
   "codemirror_mode": {
    "name": "ipython",
    "version": 3
   },
   "file_extension": ".py",
   "mimetype": "text/x-python",
   "name": "python",
   "nbconvert_exporter": "python",
   "pygments_lexer": "ipython3",
<<<<<<< HEAD
   "version": "3.9.5"
=======
   "version": "3.9.10"
>>>>>>> 4f613b86cc6fa10cdd9a3105d498bdc6fd74af18
  },
  "orig_nbformat": 4,
  "vscode": {
   "interpreter": {
<<<<<<< HEAD
    "hash": "185596214195b2bb38c4759d90e2bf136bd3c46539160ee745f48765fe5c87bc"
=======
    "hash": "88517500b3a37dee0f1b7ab27bb3c55fa7892ef751ed8913597e5aaa367393d9"
>>>>>>> 4f613b86cc6fa10cdd9a3105d498bdc6fd74af18
   }
  }
 },
 "nbformat": 4,
 "nbformat_minor": 2
}
